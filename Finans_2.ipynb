{
 "cells": [
  {
   "cell_type": "markdown",
   "id": "4d40a715",
   "metadata": {},
   "source": [
    "#  The Magic of Diversification\n",
    "\n",
    "\n",
    "*This lecture introduces the core concept of portfolio construction: how combining assets can magically reduce risk through diversification.*\n",
    "\n",
    "---\n",
    "\n",
    "##  Core Questions & Learning Objectives\n",
    "\n",
    "* **Objective 1:** Understand the relationship between risk (volatility) and return in a portfolio.\n",
    "* **Objective 2:** Learn how to calculate the return and volatility of a two-asset portfolio.\n",
    "* **Objective 3:** Discover why **correlation** is the key factor that makes diversification possible.\n",
    "* **Objective 4:** Recognize that combining assets can create a portfolio with lower risk than any of its individual components.\n",
    "\n",
    "---\n",
    "\n",
    "##  Lecture Notes\n",
    "\n",
    "### Topic 1: The Risk/Return Framework\n",
    "\n",
    "* Portfolios are analyzed in a **mean-variance framework**, which plots expected return (mean) on the y-axis against risk (standard deviation or variance) on the x-axis. \n",
    "* **Asset A:** 4% Return, 10% Volatility\n",
    "* **Asset B:** 6% Return, 14% Volatility\n",
    "* **Question:** What happens when we combine Asset A and Asset B into a single portfolio?\n",
    "\n",
    "### Topic 2: Calculating Portfolio Return and Risk\n",
    "\n",
    "#### Portfolio Return (The Simple Part)\n",
    "* The return of a portfolio is simply the **weighted average** of the returns of its components.\n",
    "* **Example:** A portfolio with 50% in Asset A and 50% in Asset B.\n",
    "    * Return = (0.50 * 4%) + (0.50 * 6%) = **5%**\n",
    "* This calculation is straightforward and predictable.\n",
    "\n",
    "#### Portfolio Risk (The Magical Part)\n",
    "* The risk (volatility) of a portfolio is **NOT** simply the weighted average of the individual asset risks.\n",
    "* The calculation is more complex and depends critically on the **correlation** between the assets.\n",
    "    * **Correlation:** A measure of how two assets move in relation to each other. It ranges from +1 (perfectly correlated) to -1 (perfectly negatively correlated).\n",
    "* **Formula for a Two-Asset Portfolio Variance:**\n",
    "    > σ²p = (wA² * σA²) + (wB² * σB²) + (2 * wA * wB * σA * σB * ρAB)\n",
    "    * Where `w` is the weight, `σ` is the volatility (standard deviation), and `ρ` (rho) is the correlation coefficient.\n",
    "\n",
    "### Topic 3: The Role of Correlation in Diversification\n",
    "\n",
    "* **If Correlation = 1 (Perfectly Correlated):**\n",
    "    * The assets move in perfect lockstep.\n",
    "    * There is **no diversification benefit**. The portfolio's risk is simply the weighted average of the individual risks. The risk/return plot is a straight line between Asset A and Asset B.\n",
    "* **If Correlation < 1 (Imperfectly Correlated):**\n",
    "    * The assets do not move perfectly together. One might zig while the other zags.\n",
    "    * This is where the magic happens. The combined portfolio's volatility will be **less** than the weighted average.\n",
    "    * The lower the correlation, the more the risk is reduced.\n",
    "* **Example from Lecture:**\n",
    "    * Assuming a correlation of **0.4** between Asset A and B.\n",
    "    * A 50/50 portfolio would have a volatility of **10.10%**.\n",
    "    * This is significantly less than the weighted average of 12% ((0.5 * 10%) + (0.5 * 14%)).\n",
    "\n",
    "---\n",
    "\n",
    "##  Key Takeaways & Summary\n",
    "\n",
    "1.  **The Only Free Lunch in Finance:** Diversification is the ability to reduce a portfolio's risk without sacrificing expected return. This is achieved by combining assets that are not perfectly correlated.\n",
    "\n",
    "\n",
    "\n",
    "\n",
    "2.  **The Power of Low Correlation:** The lower the correlation between assets, the greater the diversification benefit. The risk/return plot between two assets curves outwards, creating portfolios that are superior to a simple weighted average.\n",
    "3.  **The \"Magic\" Result:** It is possible to combine two risky assets and create a portfolio that has a **lower volatility than either of the individual assets**. This occurs at the \"nose\" of the curved line connecting the two assets on the risk/return plot. \n",
    "4.  **Foundation of Portfolio Construction:** Exploiting this feature—combining decorrelated assets to reduce risk—is the fundamental principle behind all modern portfolio construction.\n",
    "\n",
    "---\n",
    "\n",
    "##  Questions & Further Clarification\n",
    "\n",
    "* What happens to the diversification benefit as correlation approaches -1?\n",
    "* How do we accurately estimate the future correlation between two assets?\n",
    "\n"
   ]
  },
  {
   "cell_type": "markdown",
   "id": "d3fdc01e",
   "metadata": {},
   "source": [
    "##"
   ]
  },
  {
   "cell_type": "markdown",
   "id": "3c2a63ab",
   "metadata": {},
   "source": [
    "####  If you build a portfolio that's 50% Asset A and 50% Asset B, how do you calculate the portfolio's return?\n",
    "* You take the weighted average , for a equally weighted portfoilio it's just a simple average/mean. \n",
    "\n",
    "#### Portfolios return is a simple average , it's risk(std) is not. What's the cruicial information we need before we can calculate the risk of a portfolio ? \n",
    "* We need the correalation betweem Asset A and Asset B, \"if one zigs the other zags\" \"zigzag\"\n",
    "\n",
    "#### The magic of diversification \"Finding the nose\" \n",
    "* Take two assets and mix them in a certain ratio that has a lower volatility than either one of them. Meaning you get a reduction in risk for free ? You can get higher returns and lower risk.  Correlated portfolios can be leveraged. "
   ]
  },
  {
   "cell_type": "markdown",
   "id": "32f1c473",
   "metadata": {},
   "source": [
    "# Markowitz Optimization and the Efficient Frontier\n",
    "\n",
    "---\n",
    "\n",
    "##  Core Question & Learning Objectives\n",
    "\n",
    "*This lecture explores what happens to our investment choices when we expand from two assets to many, introducing the foundational concept of Modern Portfolio Theory.*\n",
    "\n",
    "* **Objective 1:** Understand how adding assets transforms the set of possible portfolios from a simple curve into a region.\n",
    "* **Objective 2:** Define the concept of a \"dominant\" portfolio and why rational investors avoid \"dominated\" portfolios.\n",
    "* **Objective 3:** Identify and define the **Efficient Frontier** as the set of optimal portfolios.\n",
    "\n",
    "---\n",
    "\n",
    "##  Lecture Notes\n",
    "\n",
    "### Topic 1: From a Curve of Portfolios to a Region\n",
    "The lecture begins by building on the previous concept of combining two assets (A and B) to form a curve of possible portfolios.\n",
    "\n",
    "* **Adding a Third Asset (C):** When a third asset is introduced, new curves of possible portfolios are created (e.g., between B and C, and A and C).\n",
    "* **Portfolios as Assets:** A key insight is that any point on these curves (e.g., portfolio X made of A+B, or portfolio Y made of B+C) is itself a portfolio that can be treated as a new asset.\n",
    "* **Expanding the Possibilities:** We can then create *new* portfolios by combining these existing portfolios (e.g., a portfolio of X and Y). By combining any point on any curve with any other point, the set of possible investments expands dramatically.\n",
    "* **The Result:** With three or more assets, the set of all possible portfolios is no longer a simple line or curve. It becomes an **entire region** on the risk-return plot. Every point within this region represents a portfolio that can be constructed with some combination of the underlying assets.\n",
    "\n",
    "\n",
    "\n",
    "### Topic 2: The Concept of Dominance\n",
    "The lecturer poses a critical question: should an investor choose a portfolio (P) located in the *interior* of this region? The answer is a definitive **no**.\n",
    "\n",
    "* **Dominated Portfolios:** An interior portfolio like P is considered \"inefficient\" or **dominated** because there are always better alternatives available.\n",
    "* **Two Ways to Dominate:**\n",
    "    1.  **Higher Return, Same Risk:** There is always a portfolio (Q) directly *above* P that offers a higher return for the exact same level of volatility. A rational investor would always choose Q over P.\n",
    "    2.  **Lower Risk, Same Return:** There is always a portfolio (R) directly to the *left* of P that offers the same return but with lower volatility. A rational investor would always choose R over P.\n",
    "* **Conclusion:** A rational investor would never hold a portfolio in the interior of the investment region because there is always at least one other portfolio that is unambiguously better.\n",
    "\n",
    "### Topic 3: The Efficient Frontier\n",
    "This leads to the central concept of the lecture. If all interior portfolios are suboptimal, which ones should an investor consider?\n",
    "\n",
    "* **Definition:** The **Efficient Frontier** is the set of all portfolios that are *not dominated* by any other portfolio.\n",
    "* **Location:** Visually, it is the **upper-left edge** of the entire region of possible portfolios. It represents the set of portfolios that offer the highest possible expected return for a given level of risk (volatility).\n",
    "* **Mean-Variance Investors:** This concept is the cornerstone for a **mean-variance investor**—an investor whose sole criteria for choosing a portfolio are its expected return (mean) and its risk (variance/volatility).\n",
    "* **The Core of Modern Portfolio Theory (MPT):** The fundamental insight is that a rational, mean-variance investor should *only* consider portfolios that lie on the Efficient Frontier. \n",
    "\n",
    "---\n",
    "\n",
    "##  Key Takeaways & Summary\n",
    "\n",
    "1.  **More Assets = A Region of Possibilities:** Adding assets to a portfolio expands the set of investment choices from a simple curve to an entire region of risk-return combinations.\n",
    "2.  **Interior Portfolios are Inefficient:** Any portfolio inside this region is \"dominated,\" meaning there is always another portfolio that offers a better trade-off (higher return for the same risk, or lower risk for the same return).\n",
    "3.  **The Optimal Set is the Frontier:** The **Efficient Frontier** is the upper-left edge of this region, representing the set of all optimal, non-dominated portfolios.\n",
    "4.  **MPT's Central Rule:** Rational investors who care only about risk and return should exclusively choose portfolios that lie on this frontier.\n",
    "\n",
    "---\n",
    "\n",
    "##  Looking Ahead\n",
    "\n",
    "* **Practical Challenges:** The lecturer notes that in practice, identifying and building portfolios on the Efficient Frontier is difficult and faces significant problems.\n",
    "* **A Further Refinement:** It is hinted that investors may not even need to consider the *entire* frontier. A future lecture will reveal that often only **one specific portfolio** on the frontier is of primary interest.\n",
    "* **Next Steps:** The course will move to the practical application of using code to compute and visualize the Efficient Frontier for a given set of assets."
   ]
  },
  {
   "cell_type": "markdown",
   "id": "971593f3",
   "metadata": {},
   "source": [
    "# Efficient Frontier \n",
    "#### What makes a portfolio efficient ? (2 main reasons)\n",
    "* \n",
    "####\n",
    "\n",
    "* \n",
    "#### \n",
    "\n",
    "* \n",
    "#### \n",
    "\n",
    "* \n"
   ]
  },
  {
   "cell_type": "markdown",
   "id": "49fa49c4",
   "metadata": {},
   "source": [
    "A-B-C\n"
   ]
  },
  {
   "cell_type": "markdown",
   "id": "79e927fc",
   "metadata": {},
   "source": [
    "# Applying quadprog \n",
    "\n",
    "Effienct frontier - Space of portfolios that we want to hold , portfolios that cannot be improved on withiout chaning the return or volatility \n",
    "\n",
    "### Convex Optimization to draw the efficient frontier \n",
    "\n",
    "Given a set of asset returns volatilites and correleatins , we can plot the efficient frontier . We need to have expressions for the return and the volatility for a portfolio. \n",
    "\n",
    "Need X and Y , volatility and return. \n",
    "\n",
    "\n",
    "Run optimizer so that we find weights that give you the least volatility and maximises returns. \n",
    "\n",
    "\n",
    "#### Quadratic optimizer \n",
    "Min variance \n",
    "Constraints: Returns must be within certain value \n",
    "All weights higher then 0 , no shorting \n",
    "All weights add up to 1 \n"
   ]
  },
  {
   "cell_type": "code",
   "execution_count": null,
   "id": "d392953b",
   "metadata": {},
   "outputs": [],
   "source": []
  },
  {
   "cell_type": "markdown",
   "id": "e0f6a6cd",
   "metadata": {},
   "source": [
    "# Fund Separation Theorm and Capital market Line \n",
    "\n",
    "Tells us about the shape of the efficient frontier i nthe prescence of a risk free asset. \n",
    "\n",
    "\n",
    "Capital market line\n",
    "\n",
    "Only risky assets we get the < shape , when we introduce the risk free asset "
   ]
  },
  {
   "cell_type": "code",
   "execution_count": null,
   "id": "a95e1690",
   "metadata": {},
   "outputs": [],
   "source": []
  },
  {
   "cell_type": "markdown",
   "id": "f937adc5",
   "metadata": {},
   "source": [
    "# What single factor is most important for determining how much the portfolio's risk will be reduced when you combine assets A and B?\n",
    "\n",
    "*  How much their volatility is correlated , how much \"risk\" they share, if two assets have high correlation they tend to move in the same direction at the same time. If they have lower or negative correleationg they zig zag independently from eachother , so the risk cancels eachother out. \n",
    "\n",
    "\n",
    "# A portfolio 'P' somewhere in the middle of this region of possibilities and argues that a rational investor would never want to own it. Why is that? Looking at the diagram from the lecture, what makes portfolio 'Q' (directly above P) or portfolio 'R' (directly to the left of P) a better choice?\n",
    "\n",
    "This is because the portfolio combinations that are on the \"efficient frontier\" have maximum risk and reward. Portfolio combinations that are somewhere inbetween ie not on the efficient frontier line will not have an optimized risk vs reward. Therefor you are taking on too much risk for too little reward , or not enough risk for any reward. \n",
    "\n",
    "* A higher return for the same level of risk (like portfolio Q).\n",
    "* The same return for a lower level of risk (like portfolio R).\n",
    "\n",
    "\n",
    "# Capital Market Line (CML). This line starts at the risk-free asset and is tangent to (just touches) the old efficient frontier at a single point.\n",
    "A portfolio on the Capital Market Line (CML) is a mix of just two things:\n",
    "\n",
    "The risk-free asset.\n",
    "\n",
    "The Tangency Portfolio, which is the single point where the line touches the old efficient frontier.\n",
    "\n",
    "# What does any portfolio on this new straight line represent? And why does this line now become the new efficient frontier?\n",
    "The bottom os this line that \"touches\" the efficient frontier represents the most effective portfolion containing this or these risk free , low risk, assets. \n",
    "\n",
    "The tangnency portfolio is special because it has th ehighest possiable Sharpe Ration. IE Reward for each unit of risk. \n",
    "The tangency portfolio therefor gives you the most bang for you buck. \n",
    "\n",
    "\n",
    "# What is the main garbage in / garbage out problem that makes portfolio optimization so diffucult. \n",
    "Same as in AI , you input garbage data or bad samples the resulting model you are producing will also be bad. \n",
    "\n",
    "- 1. Expected returns  \n",
    "- 2. Covariance \n",
    "Expected returns are very diffucult to forecast accurautly, therefor our estimates are often noisy and full of errors.\n",
    "The optimizer we are using to find the \"best portfolio\"  does not know the quality of the data just the data itself at face value. A slight over estimated return or underestimated risk and look like pure gold. This can create an extreme unbalanced portfolio by allocating heavly into a \"false\" asset, IE the data for the reason is false or untrue. The estimator if used together with bad data becomes an error maximazing machine because small estimation mistakes can lead to huge allocation errors. \n",
    "\n",
    "\n",
    "# Retuns expected are so unreliable so many investors dont use them. Instead we focus on building one specific portfolio on the efficient frontier that does not requre any expected returns input. Whats the name of this portfolio and why is it considered a more robust / reliable apporach in practice ? \n",
    "\n",
    "* Global Minimum Variance Portfolio - GMV: Find the combination of assets with the absolute lowest possiable volatility without any consideres for the expected return. Since we are ignoring the most unreliable, noisy error prone input , the result is often more stable and sensiable. \n",
    "\n"
   ]
  },
  {
   "cell_type": "markdown",
   "id": "374febe4",
   "metadata": {},
   "source": [
    "# What would you say is the biggest advantage and the biggest disadvantage of using these portfolio optimization methods?\n",
    "\n",
    "* Markowitz optimazation  MPT \n",
    "\n",
    "\n",
    "Greatest strenghts : \n",
    "The ability to quantify and justify portfiolio ressource allocations \n",
    "The abiility to model portfiolio ressource allocatoins \n",
    "The ability to concatiance assets to find the sweet spot where you are maximuzing returns and minimizing risk. \n",
    "\n",
    "Provides a powerful and intituitive framework for undestanding the benefits of diversification. Investors can mathematicly see how to build a portfolio that maximizes returns for a given level of risk. The concept of the efficient fronter creates a clear visual map for making optimzal investment descisions. \n",
    "\n",
    "\n",
    "Greatest weaknesses \n",
    "\n",
    "The data that's being used, bad samples poison the models and we get false perceptions and draw the wrong conclusion. \n",
    "Model is sensetive to small errors in expected returns forcesast, which are in nature unreliable. This can lead to the optimizer producing extreme , unstable and ultimatley nonsensical assets collections. \n",
    "\n",
    "\n",
    "In practice:  \n",
    "Used as a guide for thinking more than a rigid formula. The core concepts of diversiciation is great but be sceptical to the output. Many shift to Global minimum variance GMV portfolios which abvoid using the unreliable returns forecast all together.\n"
   ]
  },
  {
   "cell_type": "markdown",
   "id": "7bedd264",
   "metadata": {},
   "source": []
  },
  {
   "cell_type": "markdown",
   "id": "b2a4c653",
   "metadata": {},
   "source": []
  },
  {
   "cell_type": "markdown",
   "id": "bafcf488",
   "metadata": {},
   "source": []
  },
  {
   "cell_type": "markdown",
   "id": "dc4e2f42",
   "metadata": {},
   "source": [
    "# Efficient Fronter - Part 1 "
   ]
  },
  {
   "cell_type": "code",
   "execution_count": 14,
   "id": "f82a80c3",
   "metadata": {},
   "outputs": [
    {
     "name": "stderr",
     "output_type": "stream",
     "text": [
      "C:\\Users\\2r\\AppData\\Local\\Temp\\ipykernel_18640\\1304026569.py:2: UserWarning: Could not infer format, so each element will be parsed individually, falling back to `dateutil`. To ensure parsing is consistent and as-expected, please specify a format.\n",
      "  ind30 = pd.read_csv('./findata/ind30_m_vw_rets.csv', header=0, index_col=0, parse_dates=True)/100\n"
     ]
    },
    {
     "data": {
      "text/html": [
       "<div>\n",
       "<style scoped>\n",
       "    .dataframe tbody tr th:only-of-type {\n",
       "        vertical-align: middle;\n",
       "    }\n",
       "\n",
       "    .dataframe tbody tr th {\n",
       "        vertical-align: top;\n",
       "    }\n",
       "\n",
       "    .dataframe thead th {\n",
       "        text-align: right;\n",
       "    }\n",
       "</style>\n",
       "<table border=\"1\" class=\"dataframe\">\n",
       "  <thead>\n",
       "    <tr style=\"text-align: right;\">\n",
       "      <th></th>\n",
       "      <th>Food</th>\n",
       "      <th>Beer</th>\n",
       "      <th>Smoke</th>\n",
       "      <th>Games</th>\n",
       "      <th>Books</th>\n",
       "      <th>Hshld</th>\n",
       "      <th>Clths</th>\n",
       "      <th>Hlth</th>\n",
       "      <th>Chems</th>\n",
       "      <th>Txtls</th>\n",
       "      <th>...</th>\n",
       "      <th>Telcm</th>\n",
       "      <th>Servs</th>\n",
       "      <th>BusEq</th>\n",
       "      <th>Paper</th>\n",
       "      <th>Trans</th>\n",
       "      <th>Whlsl</th>\n",
       "      <th>Rtail</th>\n",
       "      <th>Meals</th>\n",
       "      <th>Fin</th>\n",
       "      <th>Other</th>\n",
       "    </tr>\n",
       "  </thead>\n",
       "  <tbody>\n",
       "    <tr>\n",
       "      <th>1926-07</th>\n",
       "      <td>0.0056</td>\n",
       "      <td>-0.0519</td>\n",
       "      <td>0.0129</td>\n",
       "      <td>0.0293</td>\n",
       "      <td>0.1097</td>\n",
       "      <td>-0.0048</td>\n",
       "      <td>0.0808</td>\n",
       "      <td>0.0177</td>\n",
       "      <td>0.0814</td>\n",
       "      <td>0.0039</td>\n",
       "      <td>...</td>\n",
       "      <td>0.0083</td>\n",
       "      <td>0.0922</td>\n",
       "      <td>0.0206</td>\n",
       "      <td>0.0770</td>\n",
       "      <td>0.0193</td>\n",
       "      <td>-0.2379</td>\n",
       "      <td>0.0007</td>\n",
       "      <td>0.0187</td>\n",
       "      <td>0.0037</td>\n",
       "      <td>0.0520</td>\n",
       "    </tr>\n",
       "    <tr>\n",
       "      <th>1926-08</th>\n",
       "      <td>0.0259</td>\n",
       "      <td>0.2703</td>\n",
       "      <td>0.0650</td>\n",
       "      <td>0.0055</td>\n",
       "      <td>0.1001</td>\n",
       "      <td>-0.0358</td>\n",
       "      <td>-0.0251</td>\n",
       "      <td>0.0425</td>\n",
       "      <td>0.0550</td>\n",
       "      <td>0.0814</td>\n",
       "      <td>...</td>\n",
       "      <td>0.0217</td>\n",
       "      <td>0.0202</td>\n",
       "      <td>0.0439</td>\n",
       "      <td>-0.0238</td>\n",
       "      <td>0.0488</td>\n",
       "      <td>0.0539</td>\n",
       "      <td>-0.0075</td>\n",
       "      <td>-0.0013</td>\n",
       "      <td>0.0446</td>\n",
       "      <td>0.0676</td>\n",
       "    </tr>\n",
       "    <tr>\n",
       "      <th>1926-09</th>\n",
       "      <td>0.0116</td>\n",
       "      <td>0.0402</td>\n",
       "      <td>0.0126</td>\n",
       "      <td>0.0658</td>\n",
       "      <td>-0.0099</td>\n",
       "      <td>0.0073</td>\n",
       "      <td>-0.0051</td>\n",
       "      <td>0.0069</td>\n",
       "      <td>0.0533</td>\n",
       "      <td>0.0231</td>\n",
       "      <td>...</td>\n",
       "      <td>0.0241</td>\n",
       "      <td>0.0225</td>\n",
       "      <td>0.0019</td>\n",
       "      <td>-0.0554</td>\n",
       "      <td>0.0005</td>\n",
       "      <td>-0.0787</td>\n",
       "      <td>0.0025</td>\n",
       "      <td>-0.0056</td>\n",
       "      <td>-0.0123</td>\n",
       "      <td>-0.0386</td>\n",
       "    </tr>\n",
       "    <tr>\n",
       "      <th>1926-10</th>\n",
       "      <td>-0.0306</td>\n",
       "      <td>-0.0331</td>\n",
       "      <td>0.0106</td>\n",
       "      <td>-0.0476</td>\n",
       "      <td>0.0947</td>\n",
       "      <td>-0.0468</td>\n",
       "      <td>0.0012</td>\n",
       "      <td>-0.0057</td>\n",
       "      <td>-0.0476</td>\n",
       "      <td>0.0100</td>\n",
       "      <td>...</td>\n",
       "      <td>-0.0011</td>\n",
       "      <td>-0.0200</td>\n",
       "      <td>-0.0109</td>\n",
       "      <td>-0.0508</td>\n",
       "      <td>-0.0264</td>\n",
       "      <td>-0.1538</td>\n",
       "      <td>-0.0220</td>\n",
       "      <td>-0.0411</td>\n",
       "      <td>-0.0516</td>\n",
       "      <td>-0.0849</td>\n",
       "    </tr>\n",
       "    <tr>\n",
       "      <th>1926-11</th>\n",
       "      <td>0.0635</td>\n",
       "      <td>0.0729</td>\n",
       "      <td>0.0455</td>\n",
       "      <td>0.0166</td>\n",
       "      <td>-0.0580</td>\n",
       "      <td>-0.0054</td>\n",
       "      <td>0.0187</td>\n",
       "      <td>0.0542</td>\n",
       "      <td>0.0520</td>\n",
       "      <td>0.0311</td>\n",
       "      <td>...</td>\n",
       "      <td>0.0163</td>\n",
       "      <td>0.0377</td>\n",
       "      <td>0.0364</td>\n",
       "      <td>0.0384</td>\n",
       "      <td>0.0160</td>\n",
       "      <td>0.0467</td>\n",
       "      <td>0.0652</td>\n",
       "      <td>0.0433</td>\n",
       "      <td>0.0224</td>\n",
       "      <td>0.0400</td>\n",
       "    </tr>\n",
       "  </tbody>\n",
       "</table>\n",
       "<p>5 rows × 30 columns</p>\n",
       "</div>"
      ],
      "text/plain": [
       "           Food    Beer   Smoke   Games   Books   Hshld   Clths    Hlth  \\\n",
       "1926-07  0.0056 -0.0519  0.0129  0.0293  0.1097 -0.0048  0.0808  0.0177   \n",
       "1926-08  0.0259  0.2703  0.0650  0.0055  0.1001 -0.0358 -0.0251  0.0425   \n",
       "1926-09  0.0116  0.0402  0.0126  0.0658 -0.0099  0.0073 -0.0051  0.0069   \n",
       "1926-10 -0.0306 -0.0331  0.0106 -0.0476  0.0947 -0.0468  0.0012 -0.0057   \n",
       "1926-11  0.0635  0.0729  0.0455  0.0166 -0.0580 -0.0054  0.0187  0.0542   \n",
       "\n",
       "          Chems   Txtls  ...   Telcm   Servs   BusEq   Paper   Trans   Whlsl  \\\n",
       "1926-07  0.0814  0.0039  ...  0.0083  0.0922  0.0206  0.0770  0.0193 -0.2379   \n",
       "1926-08  0.0550  0.0814  ...  0.0217  0.0202  0.0439 -0.0238  0.0488  0.0539   \n",
       "1926-09  0.0533  0.0231  ...  0.0241  0.0225  0.0019 -0.0554  0.0005 -0.0787   \n",
       "1926-10 -0.0476  0.0100  ... -0.0011 -0.0200 -0.0109 -0.0508 -0.0264 -0.1538   \n",
       "1926-11  0.0520  0.0311  ...  0.0163  0.0377  0.0364  0.0384  0.0160  0.0467   \n",
       "\n",
       "          Rtail   Meals     Fin   Other  \n",
       "1926-07  0.0007  0.0187  0.0037  0.0520  \n",
       "1926-08 -0.0075 -0.0013  0.0446  0.0676  \n",
       "1926-09  0.0025 -0.0056 -0.0123 -0.0386  \n",
       "1926-10 -0.0220 -0.0411 -0.0516 -0.0849  \n",
       "1926-11  0.0652  0.0433  0.0224  0.0400  \n",
       "\n",
       "[5 rows x 30 columns]"
      ]
     },
     "execution_count": 14,
     "metadata": {},
     "output_type": "execute_result"
    }
   ],
   "source": [
    "import pandas as pd \n",
    "ind30 = pd.read_csv('./findata/ind30_m_vw_rets.csv', header=0, index_col=0, parse_dates=True)/100\n",
    "ind30.index = pd.to_datetime(ind30.index, format='%Y%m').to_period('M')\n",
    "ind30.columns = ind30.columns.str.strip()\n",
    "ind30.head()"
   ]
  },
  {
   "cell_type": "code",
   "execution_count": 29,
   "id": "407eb0f2",
   "metadata": {},
   "outputs": [
    {
     "data": {
      "text/html": [
       "<div>\n",
       "<style scoped>\n",
       "    .dataframe tbody tr th:only-of-type {\n",
       "        vertical-align: middle;\n",
       "    }\n",
       "\n",
       "    .dataframe tbody tr th {\n",
       "        vertical-align: top;\n",
       "    }\n",
       "\n",
       "    .dataframe thead th {\n",
       "        text-align: right;\n",
       "    }\n",
       "</style>\n",
       "<table border=\"1\" class=\"dataframe\">\n",
       "  <thead>\n",
       "    <tr style=\"text-align: right;\">\n",
       "      <th></th>\n",
       "      <th>Food</th>\n",
       "      <th>Beer</th>\n",
       "      <th>Smoke</th>\n",
       "      <th>Games</th>\n",
       "      <th>Books</th>\n",
       "      <th>Hshld</th>\n",
       "      <th>Clths</th>\n",
       "      <th>Hlth</th>\n",
       "      <th>Chems</th>\n",
       "      <th>Txtls</th>\n",
       "      <th>...</th>\n",
       "      <th>Telcm</th>\n",
       "      <th>Servs</th>\n",
       "      <th>BusEq</th>\n",
       "      <th>Paper</th>\n",
       "      <th>Trans</th>\n",
       "      <th>Whlsl</th>\n",
       "      <th>Rtail</th>\n",
       "      <th>Meals</th>\n",
       "      <th>Fin</th>\n",
       "      <th>Other</th>\n",
       "    </tr>\n",
       "  </thead>\n",
       "  <tbody>\n",
       "    <tr>\n",
       "      <th>1926-07</th>\n",
       "      <td>0.0056</td>\n",
       "      <td>-0.0519</td>\n",
       "      <td>0.0129</td>\n",
       "      <td>0.0293</td>\n",
       "      <td>0.1097</td>\n",
       "      <td>-0.0048</td>\n",
       "      <td>0.0808</td>\n",
       "      <td>0.0177</td>\n",
       "      <td>0.0814</td>\n",
       "      <td>0.0039</td>\n",
       "      <td>...</td>\n",
       "      <td>0.0083</td>\n",
       "      <td>0.0922</td>\n",
       "      <td>0.0206</td>\n",
       "      <td>0.0770</td>\n",
       "      <td>0.0193</td>\n",
       "      <td>-0.2379</td>\n",
       "      <td>0.0007</td>\n",
       "      <td>0.0187</td>\n",
       "      <td>0.0037</td>\n",
       "      <td>0.0520</td>\n",
       "    </tr>\n",
       "    <tr>\n",
       "      <th>1926-08</th>\n",
       "      <td>0.0259</td>\n",
       "      <td>0.2703</td>\n",
       "      <td>0.0650</td>\n",
       "      <td>0.0055</td>\n",
       "      <td>0.1001</td>\n",
       "      <td>-0.0358</td>\n",
       "      <td>-0.0251</td>\n",
       "      <td>0.0425</td>\n",
       "      <td>0.0550</td>\n",
       "      <td>0.0814</td>\n",
       "      <td>...</td>\n",
       "      <td>0.0217</td>\n",
       "      <td>0.0202</td>\n",
       "      <td>0.0439</td>\n",
       "      <td>-0.0238</td>\n",
       "      <td>0.0488</td>\n",
       "      <td>0.0539</td>\n",
       "      <td>-0.0075</td>\n",
       "      <td>-0.0013</td>\n",
       "      <td>0.0446</td>\n",
       "      <td>0.0676</td>\n",
       "    </tr>\n",
       "    <tr>\n",
       "      <th>1926-09</th>\n",
       "      <td>0.0116</td>\n",
       "      <td>0.0402</td>\n",
       "      <td>0.0126</td>\n",
       "      <td>0.0658</td>\n",
       "      <td>-0.0099</td>\n",
       "      <td>0.0073</td>\n",
       "      <td>-0.0051</td>\n",
       "      <td>0.0069</td>\n",
       "      <td>0.0533</td>\n",
       "      <td>0.0231</td>\n",
       "      <td>...</td>\n",
       "      <td>0.0241</td>\n",
       "      <td>0.0225</td>\n",
       "      <td>0.0019</td>\n",
       "      <td>-0.0554</td>\n",
       "      <td>0.0005</td>\n",
       "      <td>-0.0787</td>\n",
       "      <td>0.0025</td>\n",
       "      <td>-0.0056</td>\n",
       "      <td>-0.0123</td>\n",
       "      <td>-0.0386</td>\n",
       "    </tr>\n",
       "    <tr>\n",
       "      <th>1926-10</th>\n",
       "      <td>-0.0306</td>\n",
       "      <td>-0.0331</td>\n",
       "      <td>0.0106</td>\n",
       "      <td>-0.0476</td>\n",
       "      <td>0.0947</td>\n",
       "      <td>-0.0468</td>\n",
       "      <td>0.0012</td>\n",
       "      <td>-0.0057</td>\n",
       "      <td>-0.0476</td>\n",
       "      <td>0.0100</td>\n",
       "      <td>...</td>\n",
       "      <td>-0.0011</td>\n",
       "      <td>-0.0200</td>\n",
       "      <td>-0.0109</td>\n",
       "      <td>-0.0508</td>\n",
       "      <td>-0.0264</td>\n",
       "      <td>-0.1538</td>\n",
       "      <td>-0.0220</td>\n",
       "      <td>-0.0411</td>\n",
       "      <td>-0.0516</td>\n",
       "      <td>-0.0849</td>\n",
       "    </tr>\n",
       "    <tr>\n",
       "      <th>1926-11</th>\n",
       "      <td>0.0635</td>\n",
       "      <td>0.0729</td>\n",
       "      <td>0.0455</td>\n",
       "      <td>0.0166</td>\n",
       "      <td>-0.0580</td>\n",
       "      <td>-0.0054</td>\n",
       "      <td>0.0187</td>\n",
       "      <td>0.0542</td>\n",
       "      <td>0.0520</td>\n",
       "      <td>0.0311</td>\n",
       "      <td>...</td>\n",
       "      <td>0.0163</td>\n",
       "      <td>0.0377</td>\n",
       "      <td>0.0364</td>\n",
       "      <td>0.0384</td>\n",
       "      <td>0.0160</td>\n",
       "      <td>0.0467</td>\n",
       "      <td>0.0652</td>\n",
       "      <td>0.0433</td>\n",
       "      <td>0.0224</td>\n",
       "      <td>0.0400</td>\n",
       "    </tr>\n",
       "  </tbody>\n",
       "</table>\n",
       "<p>5 rows × 30 columns</p>\n",
       "</div>"
      ],
      "text/plain": [
       "           Food    Beer   Smoke   Games   Books   Hshld   Clths    Hlth  \\\n",
       "1926-07  0.0056 -0.0519  0.0129  0.0293  0.1097 -0.0048  0.0808  0.0177   \n",
       "1926-08  0.0259  0.2703  0.0650  0.0055  0.1001 -0.0358 -0.0251  0.0425   \n",
       "1926-09  0.0116  0.0402  0.0126  0.0658 -0.0099  0.0073 -0.0051  0.0069   \n",
       "1926-10 -0.0306 -0.0331  0.0106 -0.0476  0.0947 -0.0468  0.0012 -0.0057   \n",
       "1926-11  0.0635  0.0729  0.0455  0.0166 -0.0580 -0.0054  0.0187  0.0542   \n",
       "\n",
       "          Chems   Txtls  ...   Telcm   Servs   BusEq   Paper   Trans   Whlsl  \\\n",
       "1926-07  0.0814  0.0039  ...  0.0083  0.0922  0.0206  0.0770  0.0193 -0.2379   \n",
       "1926-08  0.0550  0.0814  ...  0.0217  0.0202  0.0439 -0.0238  0.0488  0.0539   \n",
       "1926-09  0.0533  0.0231  ...  0.0241  0.0225  0.0019 -0.0554  0.0005 -0.0787   \n",
       "1926-10 -0.0476  0.0100  ... -0.0011 -0.0200 -0.0109 -0.0508 -0.0264 -0.1538   \n",
       "1926-11  0.0520  0.0311  ...  0.0163  0.0377  0.0364  0.0384  0.0160  0.0467   \n",
       "\n",
       "          Rtail   Meals     Fin   Other  \n",
       "1926-07  0.0007  0.0187  0.0037  0.0520  \n",
       "1926-08 -0.0075 -0.0013  0.0446  0.0676  \n",
       "1926-09  0.0025 -0.0056 -0.0123 -0.0386  \n",
       "1926-10 -0.0220 -0.0411 -0.0516 -0.0849  \n",
       "1926-11  0.0652  0.0433  0.0224  0.0400  \n",
       "\n",
       "[5 rows x 30 columns]"
      ]
     },
     "execution_count": 29,
     "metadata": {},
     "output_type": "execute_result"
    }
   ],
   "source": [
    "import matplotlib.pyplot as plt\n",
    "import module_t as t \n",
    "ind = t.get_ind_returns()\n",
    "ind.shape\n",
    "ind.head()"
   ]
  },
  {
   "cell_type": "code",
   "execution_count": 32,
   "id": "46a5265f",
   "metadata": {},
   "outputs": [
    {
     "data": {
      "text/plain": [
       "<Axes: >"
      ]
     },
     "execution_count": 32,
     "metadata": {},
     "output_type": "execute_result"
    },
    {
     "data": {
      "image/png": "[encoded data removed]",
      "text/plain": [
       "<Figure size 640x480 with 1 Axes>"
      ]
     },
     "metadata": {},
     "output_type": "display_data"
    }
   ],
   "source": [
    "# Compute drawdown for food \n",
    "drawdown_data = t.drawdown(ind['Food'])\n",
    "drawdown_data[\"Drawdown\"].plot.line()\n"
   ]
  },
  {
   "cell_type": "code",
   "execution_count": 34,
   "id": "58b3675c",
   "metadata": {},
   "outputs": [
    {
     "data": {
      "text/plain": [
       "Food     0.061207\n",
       "Smoke    0.080292\n",
       "Coal     0.047359\n",
       "Beer     0.033881\n",
       "Fin      0.075199\n",
       "dtype: float64"
      ]
     },
     "execution_count": 34,
     "metadata": {},
     "output_type": "execute_result"
    }
   ],
   "source": [
    "# What can we do with this return series ? \n",
    "cols_of_int = ind[[\"Food\",\"Smoke\",\"Coal\",\"Beer\",\"Fin\"]]\n",
    "t.var_gaussian(cols_of_int,modified=True)"
   ]
  },
  {
   "cell_type": "code",
   "execution_count": 35,
   "id": "90a9fc3a",
   "metadata": {},
   "outputs": [
    {
     "data": {
      "text/plain": [
       "Carry    0.094527\n",
       "Meals    0.098403\n",
       "BusEq    0.099377\n",
       "Games    0.100701\n",
       "Mines    0.102782\n",
       "dtype: float64"
      ]
     },
     "execution_count": 35,
     "metadata": {},
     "output_type": "execute_result"
    }
   ],
   "source": [
    "t.var_gaussian(ind, modified=True).sort_values().tail()"
   ]
  },
  {
   "cell_type": "code",
   "execution_count": 36,
   "id": "68389ae5",
   "metadata": {},
   "outputs": [
    {
     "data": {
      "text/plain": [
       "Beer     0.033881\n",
       "Coal     0.047359\n",
       "Food     0.061207\n",
       "Telcm    0.064719\n",
       "Hshld    0.064886\n",
       "dtype: float64"
      ]
     },
     "execution_count": 36,
     "metadata": {},
     "output_type": "execute_result"
    }
   ],
   "source": [
    "t.var_gaussian(ind, modified=True).sort_values().head()"
   ]
  },
  {
   "cell_type": "code",
   "execution_count": 37,
   "id": "255d3cd5",
   "metadata": {},
   "outputs": [
    {
     "data": {
      "text/plain": [
       "<Axes: >"
      ]
     },
     "execution_count": 37,
     "metadata": {},
     "output_type": "execute_result"
    },
    {
     "data": {
      "image/png": "[encoded data removed]",
      "text/plain": [
       "<Figure size 640x480 with 1 Axes>"
      ]
     },
     "metadata": {},
     "output_type": "display_data"
    }
   ],
   "source": [
    "t.var_gaussian(ind, modified=True).sort_values().plot.bar()"
   ]
  },
  {
   "cell_type": "code",
   "execution_count": 40,
   "id": "3beebd3a",
   "metadata": {},
   "outputs": [
    {
     "data": {
      "text/plain": [
       "<Axes: title={'center': 'Sharpe Ratios'}>"
      ]
     },
     "execution_count": 40,
     "metadata": {},
     "output_type": "execute_result"
    },
    {
     "data": {
      "image/png": "[encoded data removed]",
      "text/plain": [
       "<Figure size 640x480 with 1 Axes>"
      ]
     },
     "metadata": {},
     "output_type": "display_data"
    }
   ],
   "source": [
    "t.sharpe_ratio(ind, 0.03 , 12).sort_values().plot.bar(title= \"Sharpe Ratios\")"
   ]
  },
  {
   "cell_type": "code",
   "execution_count": 44,
   "id": "eed8bfde",
   "metadata": {},
   "outputs": [
    {
     "data": {
      "text/plain": [
       "<Axes: title={'center': 'Sharpe Ratios 2000 ->'}>"
      ]
     },
     "execution_count": 44,
     "metadata": {},
     "output_type": "execute_result"
    },
    {
     "data": {
      "image/png": "[encoded data removed]",
      "text/plain": [
       "<Figure size 640x480 with 1 Axes>"
      ]
     },
     "metadata": {},
     "output_type": "display_data"
    }
   ],
   "source": [
    "t.sharpe_ratio(ind[\"2000\":], 0.03 , 12).sort_values().plot.bar(title= \"Sharpe Ratios 2000 ->\",color='yellow')"
   ]
  },
  {
   "cell_type": "code",
   "execution_count": 53,
   "id": "3a219d23",
   "metadata": {},
   "outputs": [
    {
     "data": {
      "image/png": "[encoded data removed]",
      "text/plain": [
       "<Figure size 640x480 with 1 Axes>"
      ]
     },
     "metadata": {},
     "output_type": "display_data"
    }
   ],
   "source": [
    "# Computing the efficient frontier , we need expected returns and covariance matrix\n",
    "import numpy as np\n",
    "#1 (We have no good answer for this but we can use historical returns as a proxy), so what was it. In sample not forecast\n",
    "\n",
    "expected_returns = t.annualize_rets(ind[\"1995\":\"2000\"],12)\n",
    "\n",
    "expected_returns.plot.bar(title=\"Annualized Returns 1995-2000\")\n",
    "\n",
    "\n",
    "# 2 Covariance Matrix\n",
    "cov_matrix = ind[\"1995\":\"2000\"].cov()\n",
    "cov_matrix.shape\n",
    "\n",
    "\n",
    "# Efficient Frontier\n",
    "# Generate portfolios , the weights determina how much we invest in each asset\n",
    "# Look at the risk & return map \n",
    "# X and Y for every set of weights \n",
    "\n",
    "def portfolio_return(weights, returns):\n",
    "    return weights.T @ returns\n",
    "def portfolio_volatility(weights, cov_matrix):\n",
    "    return np.sqrt(weights.T @ cov_matrix @ weights)\n",
    "\n"
   ]
  },
  {
   "cell_type": "code",
   "execution_count": 56,
   "id": "68014cbd",
   "metadata": {},
   "outputs": [
    {
     "data": {
      "text/plain": [
       "np.float64(0.20496820684146116)"
      ]
     },
     "execution_count": 56,
     "metadata": {},
     "output_type": "execute_result"
    }
   ],
   "source": [
    "l = [\"Food\", \"Beer\", \"Smoke\", \"Coal\"]\n",
    "expected_returns = expected_returns[l]\n",
    "weights = np.repeat(1/4, 4)\n",
    "t.portfolio_return(weights, expected_returns)"
   ]
  },
  {
   "cell_type": "markdown",
   "id": "44ed3938",
   "metadata": {},
   "source": [
    "'''Use the EDHEC Hedge Fund Indices data set that we used in the lab assignment as well as in the previous week’s assignments. Load them into Python and perform the following analysis based on data since 2000 (including all of 2000): What was the Monthly Parametric Gaussian VaR at the 1% level (as a +ve number) of the Distressed Securities strategy?\n",
    "Enter the positive number as a percent .e.g. For 5.32% enter 5.32 \n",
    "\n",
    "NOTE: You may either round or truncate to 1 decimal place, we will accept either answer\n",
    "'''"
   ]
  },
  {
   "cell_type": "code",
   "execution_count": 8,
   "id": "00f26365",
   "metadata": {},
   "outputs": [
    {
     "name": "stderr",
     "output_type": "stream",
     "text": [
      "C:\\Users\\2r\\AppData\\Local\\Temp\\ipykernel_1216\\3830406517.py:2: UserWarning: Parsing dates in %d/%m/%Y format when dayfirst=False (the default) was specified. Pass `dayfirst=True` or specify a format to silence this warning.\n",
      "  edhect = pd.read_csv('./data/edhec-hedgefundindices.csv', header=0, index_col=0, parse_dates=True)/100\n"
     ]
    },
    {
     "data": {
      "text/plain": [
       "np.float64(3.1430176939280456)"
      ]
     },
     "execution_count": 8,
     "metadata": {},
     "output_type": "execute_result"
    }
   ],
   "source": [
    "import pandas as pd \n",
    "edhect = pd.read_csv('./data/edhec-hedgefundindices.csv', header=0, index_col=0, parse_dates=True)/100\n",
    "edhect.index = pd.to_datetime(edhect.index, format='%Y%m').to_period('M')\n",
    "edhect.columns = edhect.columns.str.strip()\n",
    "edhect.head()\n",
    "\n",
    "import module_t as t\n",
    "t.var_gaussian(edhect[\"2000\":][\"Distressed Securities\"], level=1, modified=False) * 100\n",
    "\n",
    "\n"
   ]
  },
  {
   "cell_type": "markdown",
   "id": "41d51bba",
   "metadata": {},
   "source": []
  },
  {
   "cell_type": "code",
   "execution_count": 9,
   "id": "34038959",
   "metadata": {},
   "outputs": [
    {
     "data": {
      "text/plain": [
       "np.float64(4.966909110627921)"
      ]
     },
     "execution_count": 9,
     "metadata": {},
     "output_type": "execute_result"
    }
   ],
   "source": [
    "#Use the same data set at the previous question. What was the 1% VaR for the same strategy after applying the \n",
    "# Cornish-Fisher Adjustment?\n",
    "t.var_gaussian(edhect[\"2000\":][\"Distressed Securities\"], level=1, modified=True) * 100"
   ]
  },
  {
   "cell_type": "markdown",
   "id": "303d5b21",
   "metadata": {},
   "source": []
  },
  {
   "cell_type": "code",
   "execution_count": 10,
   "id": "3fc6e23b",
   "metadata": {},
   "outputs": [
    {
     "data": {
      "text/plain": [
       "np.float64(4.264199999999999)"
      ]
     },
     "execution_count": 10,
     "metadata": {},
     "output_type": "execute_result"
    }
   ],
   "source": [
    "# Question 3\n",
    "#Use the same dataset as the previous question. What was the Monthly Historic VaR at the 1% level\n",
    "# (as a +ve number) of the Distressed Securities strategy?\n",
    "t.var_historic(edhect[\"2000\":][\"Distressed Securities\"], level=1) * 100"
   ]
  },
  {
   "cell_type": "code",
   "execution_count": 15,
   "id": "c6431e9e",
   "metadata": {},
   "outputs": [
    {
     "name": "stdout",
     "output_type": "stream",
     "text": [
      "Selected industries data (2013-2017):\n",
      "          Books   Steel     Oil   Mines\n",
      "2013-01  0.0513  0.0428  0.0788  0.0059\n",
      "2013-02 -0.0654 -0.0268  0.0052 -0.0756\n",
      "2013-03  0.0778  0.0210  0.0209  0.0091\n",
      "2013-04 -0.0029 -0.0441 -0.0129 -0.1057\n",
      "2013-05  0.0479  0.0384  0.0307  0.0022\n",
      "\n",
      "Data shape: (60, 4)\n",
      "Date range: 2013-01 to 2017-12\n",
      "\n",
      "Expected Returns (annualized):\n",
      "Books    0.095312\n",
      "Steel    0.100716\n",
      "Oil      0.025275\n",
      "Mines    0.005136\n",
      "dtype: float64\n",
      "\n",
      "Covariance Matrix (annualized):\n",
      "          Books     Steel       Oil     Mines\n",
      "Books  0.032641  0.023282  0.019645  0.018470\n",
      "Steel  0.023282  0.052693  0.025467  0.040691\n",
      "Oil    0.019645  0.025467  0.032360  0.026151\n",
      "Mines  0.018470  0.040691  0.026151  0.062780\n",
      "\n",
      "=== Portfolio Construction ===\n",
      "\n",
      "1. Equal Weight (EW) Portfolio weights:\n",
      "Books    0.25\n",
      "Steel    0.25\n",
      "Oil      0.25\n",
      "Mines    0.25\n",
      "dtype: float64\n",
      "\n",
      "2. Global Minimum Variance (GMV) Portfolio weights:\n",
      "Books    0.477168\n",
      "Steel    0.000000\n",
      "Oil      0.433993\n",
      "Mines    0.088839\n",
      "dtype: float64\n",
      "\n",
      "3. Maximum Sharpe Ratio (MSR) Portfolio weights:\n",
      "Books    1.609823e-15\n",
      "Steel    1.000000e+00\n",
      "Oil      0.000000e+00\n",
      "Mines    2.706169e-16\n",
      "dtype: float64\n",
      "Weight of Steel in the EW Portfolio: 0.2500 or 25.00%\n",
      "\n",
      "=== Portfolio Performance ===\n",
      "EW Portfolio: Return=0.0566, Volatility=0.1746, Sharpe Ratio=-0.2485\n",
      "GMV Portfolio: Return=0.0569, Volatility=0.1604, Sharpe Ratio=-0.2686\n",
      "MSR Portfolio: Return=0.1007, Volatility=0.2295, Sharpe Ratio=0.0031\n"
     ]
    }
   ],
   "source": [
    "#Question 4\n",
    "#Next, load the 30 industry return data using the erk.get_ind_returns() function that we developed during the lab sessions. For purposes of the remaining questions, use data during the 5 year period 2013-2017 (both inclusive) to estimate the expected returns as well as the covariance matrix. To be able to respond to the questions, you will need to build the MSR, EW and GMV portfolios consisting of the \"Books\", \"Steel\", \"Oil\", and \"Mines\" industries. Assume the risk free rate over the 5 year period is 10%.\n",
    "#What is the weight of Steel in the EW Portfolio? \n",
    "import module_t as t\n",
    "import numpy as np\n",
    "import pandas as pd\n",
    "\n",
    "# Load the 30 industry returns\n",
    "ind_returns = t.get_ind_returns()\n",
    "\n",
    "# Filter for the period 2013-2017 (both inclusive)\n",
    "period_returns = ind_returns[\"2013\":\"2017\"]\n",
    "\n",
    "# Select the specific industries: Books, Steel, Oil, and Mines\n",
    "industries = [\"Books\", \"Steel\", \"Oil\", \"Mines\"]\n",
    "selected_returns = period_returns[industries]\n",
    "\n",
    "print(\"Selected industries data (2013-2017):\")\n",
    "print(selected_returns.head())\n",
    "print(f\"\\nData shape: {selected_returns.shape}\")\n",
    "print(f\"Date range: {selected_returns.index.min()} to {selected_returns.index.max()}\")\n",
    "\n",
    "# Calculate expected returns (annualized)\n",
    "expected_returns = t.annualize_rets(selected_returns, 12)\n",
    "print(f\"\\nExpected Returns (annualized):\")\n",
    "print(expected_returns)\n",
    "\n",
    "# Calculate covariance matrix (annualized)\n",
    "cov_matrix = selected_returns.cov() * 12  # Annualize monthly covariance\n",
    "print(f\"\\nCovariance Matrix (annualized):\")\n",
    "print(cov_matrix)\n",
    "\n",
    "# Risk-free rate\n",
    "risk_free_rate = 0.10  # 10%\n",
    "\n",
    "# Build portfolios\n",
    "print(f\"\\n=== Portfolio Construction ===\")\n",
    "\n",
    "# 1. Equal Weight (EW) Portfolio\n",
    "n_assets = len(industries)\n",
    "ew_weights = np.repeat(1/n_assets, n_assets)\n",
    "ew_portfolio = pd.Series(ew_weights, index=industries)\n",
    "\n",
    "print(f\"\\n1. Equal Weight (EW) Portfolio weights:\")\n",
    "print(ew_portfolio)\n",
    "\n",
    "# 2. Global Minimum Variance (GMV) Portfolio\n",
    "gmv_weights = t.gmv(cov_matrix)\n",
    "gmv_portfolio = pd.Series(gmv_weights, index=industries)\n",
    "\n",
    "print(f\"\\n2. Global Minimum Variance (GMV) Portfolio weights:\")\n",
    "print(gmv_portfolio)\n",
    "\n",
    "# 3. Maximum Sharpe Ratio (MSR) Portfolio\n",
    "msr_weights = t.msr(risk_free_rate, expected_returns, cov_matrix)\n",
    "msr_portfolio = pd.Series(msr_weights, index=industries)\n",
    "\n",
    "print(f\"\\n3. Maximum Sharpe Ratio (MSR) Portfolio weights:\")\n",
    "print(msr_portfolio)\n",
    "\n",
    "# Answer to the question: Weight of Steel in EW Portfolio\n",
    "steel_weight_ew = ew_portfolio[\"Steel\"]\n",
    "print(f\"Weight of Steel in the EW Portfolio: {steel_weight_ew:.4f} or {steel_weight_ew * 100:.2f}%\")\n",
    "\n",
    "# Portfolio performance metrics\n",
    "print(f\"\\n=== Portfolio Performance ===\")\n",
    "\n",
    "for name, weights in [(\"EW\", ew_weights), (\"GMV\", gmv_weights), (\"MSR\", msr_weights)]:\n",
    "    ret = t.portfolio_return(weights, expected_returns)\n",
    "    vol = t.portfolio_vol(weights, cov_matrix)\n",
    "    sharpe = (ret - risk_free_rate) / vol\n",
    "    print(f\"{name} Portfolio: Return={ret:.4f}, Volatility={vol:.4f}, Sharpe Ratio={sharpe:.4f}\")"
   ]
  },
  {
   "cell_type": "code",
   "execution_count": 16,
   "id": "130cc1bb",
   "metadata": {},
   "outputs": [
    {
     "name": "stdout",
     "output_type": "stream",
     "text": [
      "Weight of the largest component in the MSR Portfolio: 1.0000 or 100.00%\n"
     ]
    }
   ],
   "source": [
    "# What is the weight of the largest component of the MSR portfolio?  \n",
    "largest_msr_weight = msr_portfolio.max()\n",
    "print(f\"Weight of the largest component in the MSR Portfolio: {largest_msr_weight:.4f} or {largest_msr_weight * 100:.2f}%\")\n"
   ]
  },
  {
   "cell_type": "code",
   "execution_count": 17,
   "id": "a70b3ef4",
   "metadata": {},
   "outputs": [
    {
     "name": "stdout",
     "output_type": "stream",
     "text": [
      "Largest component in the MSR Portfolio: Steel\n"
     ]
    }
   ],
   "source": [
    "#Question 6\n",
    "#Which of the 4 components has the largest weight in the MSR portfolio?\n",
    "largest_msr_component = msr_portfolio.idxmax()\n",
    "print(f\"Largest component in the MSR Portfolio: {largest_msr_component}\")\n"
   ]
  },
  {
   "cell_type": "code",
   "execution_count": 19,
   "id": "c7499a11",
   "metadata": {},
   "outputs": [
    {
     "name": "stdout",
     "output_type": "stream",
     "text": [
      "Number of components in the MSR Portfolio with non-zero weights: 1\n"
     ]
    }
   ],
   "source": [
    "# How many of the components of the MSR portfolio have non-zero weights?  \n",
    "non_zero_weights_count = (msr_portfolio > 1e-6).sum()  # Using a small threshold to account for numerical precision\n",
    "print(f\"Number of components in the MSR Portfolio with non-zero weights: {non_zero_weights_count}\")"
   ]
  },
  {
   "cell_type": "code",
   "execution_count": 21,
   "id": "e659ab18",
   "metadata": {},
   "outputs": [
    {
     "name": "stdout",
     "output_type": "stream",
     "text": [
      "Weight of the largest component in the GMV Portfolio: 0.47716843840877377\n"
     ]
    }
   ],
   "source": [
    "#What is the weight of the largest component of the GMV portfolio?\n",
    "largest_gmv_weight = gmv_portfolio.max()\n",
    "print(f\"Weight of the largest component in the GMV Portfolio: {largest_gmv_weight}\")"
   ]
  },
  {
   "cell_type": "code",
   "execution_count": 22,
   "id": "9344ac6a",
   "metadata": {},
   "outputs": [
    {
     "name": "stdout",
     "output_type": "stream",
     "text": [
      "Largest component in the GMV Portfolio: Books\n"
     ]
    }
   ],
   "source": [
    "#Which of the 4 components has the largest weight in the GMV portfolio?    \n",
    "largest_gmv_component = gmv_portfolio.idxmax()\n",
    "print(f\"Largest component in the GMV Portfolio: {largest_gmv_component}\")"
   ]
  },
  {
   "cell_type": "code",
   "execution_count": 23,
   "id": "34122db5",
   "metadata": {},
   "outputs": [
    {
     "name": "stdout",
     "output_type": "stream",
     "text": [
      "Number of components in the GMV Portfolio with non-zero weights: 3\n"
     ]
    }
   ],
   "source": [
    "# How many of the components of the GMV portfolio have non-zero weights?    \n",
    "non_zero_gmv_weights_count = (gmv_portfolio > 1e-6).sum()  # Using a small threshold to account for numerical precision\n",
    "print(f\"Number of components in the GMV Portfolio with non-zero weights: {non_zero_gmv_weights_count}\")"
   ]
  },
  {
   "cell_type": "code",
   "execution_count": 28,
   "id": "02c0b699",
   "metadata": {},
   "outputs": [
    {
     "ename": "KeyError",
     "evalue": "'2018'",
     "output_type": "error",
     "traceback": [
      "\u001b[31m---------------------------------------------------------------------------\u001b[39m",
      "\u001b[31mKeyError\u001b[39m                                  Traceback (most recent call last)",
      "\u001b[36mFile \u001b[39m\u001b[32m~\\AppData\\Local\\Packages\\PythonSoftwareFoundation.Python.3.12_qbz5n2kfra8p0\\LocalCache\\local-packages\\Python312\\site-packages\\pandas\\core\\indexes\\base.py:3812\u001b[39m, in \u001b[36mIndex.get_loc\u001b[39m\u001b[34m(self, key)\u001b[39m\n\u001b[32m   3811\u001b[39m \u001b[38;5;28;01mtry\u001b[39;00m:\n\u001b[32m-> \u001b[39m\u001b[32m3812\u001b[39m     \u001b[38;5;28;01mreturn\u001b[39;00m \u001b[38;5;28;43mself\u001b[39;49m\u001b[43m.\u001b[49m\u001b[43m_engine\u001b[49m\u001b[43m.\u001b[49m\u001b[43mget_loc\u001b[49m\u001b[43m(\u001b[49m\u001b[43mcasted_key\u001b[49m\u001b[43m)\u001b[49m\n\u001b[32m   3813\u001b[39m \u001b[38;5;28;01mexcept\u001b[39;00m \u001b[38;5;167;01mKeyError\u001b[39;00m \u001b[38;5;28;01mas\u001b[39;00m err:\n",
      "\u001b[36mFile \u001b[39m\u001b[32mpandas/_libs/index.pyx:167\u001b[39m, in \u001b[36mpandas._libs.index.IndexEngine.get_loc\u001b[39m\u001b[34m()\u001b[39m\n",
      "\u001b[36mFile \u001b[39m\u001b[32mpandas/_libs/index.pyx:196\u001b[39m, in \u001b[36mpandas._libs.index.IndexEngine.get_loc\u001b[39m\u001b[34m()\u001b[39m\n",
      "\u001b[36mFile \u001b[39m\u001b[32mpandas/_libs/hashtable_class_helper.pxi:7088\u001b[39m, in \u001b[36mpandas._libs.hashtable.PyObjectHashTable.get_item\u001b[39m\u001b[34m()\u001b[39m\n",
      "\u001b[36mFile \u001b[39m\u001b[32mpandas/_libs/hashtable_class_helper.pxi:7096\u001b[39m, in \u001b[36mpandas._libs.hashtable.PyObjectHashTable.get_item\u001b[39m\u001b[34m()\u001b[39m\n",
      "\u001b[31mKeyError\u001b[39m: '2018'",
      "\nThe above exception was the direct cause of the following exception:\n",
      "\u001b[31mKeyError\u001b[39m                                  Traceback (most recent call last)",
      "\u001b[36mCell\u001b[39m\u001b[36m \u001b[39m\u001b[32mIn[28]\u001b[39m\u001b[32m, line 3\u001b[39m\n\u001b[32m      1\u001b[39m \u001b[38;5;66;03m# Assume two different investors invested in the GMV and MSR portfolios at the start of 2018 using the weights we just computed. Compute the annualized volatility of these two portfolios over the next 12 months of 2018? (Hint: Use the portfolio_vol code we developed in the lab and use ind[“2018”][l].cov() to compute the covariance matrix for 2018, assuming that the variable ind holds the industry returns and the variable l holds the list of industry portfolios you are willing to hold. Don’t forget to annualize the volatility)\u001b[39;00m\n\u001b[32m      2\u001b[39m \u001b[38;5;66;03m# What would be the annualized volatility over 2018 using the weights of the MSR portfolio?   \u001b[39;00m\n\u001b[32m----> \u001b[39m\u001b[32m3\u001b[39m cov_2018 = \u001b[43mind\u001b[49m\u001b[43m[\u001b[49m\u001b[33;43m\"\u001b[39;49m\u001b[33;43m2018\u001b[39;49m\u001b[33;43m\"\u001b[39;49m\u001b[43m]\u001b[49m[industries].cov() * \u001b[32m12\u001b[39m  \u001b[38;5;66;03m# Annualize monthly covariance for 2018\u001b[39;00m\n\u001b[32m      4\u001b[39m vol_msr_2018 = t.portfolio_vol(msr_weights, cov_2018)\n\u001b[32m      5\u001b[39m \u001b[38;5;28mprint\u001b[39m(\u001b[33mf\u001b[39m\u001b[33m\"\u001b[39m\u001b[33mAnnualized Volatility of MSR Portfolio in 2018: \u001b[39m\u001b[38;5;132;01m{\u001b[39;00mvol_msr_2018\u001b[38;5;132;01m:\u001b[39;00m\u001b[33m.4f\u001b[39m\u001b[38;5;132;01m}\u001b[39;00m\u001b[33m\"\u001b[39m)\n",
      "\u001b[36mFile \u001b[39m\u001b[32m~\\AppData\\Local\\Packages\\PythonSoftwareFoundation.Python.3.12_qbz5n2kfra8p0\\LocalCache\\local-packages\\Python312\\site-packages\\pandas\\core\\frame.py:4107\u001b[39m, in \u001b[36mDataFrame.__getitem__\u001b[39m\u001b[34m(self, key)\u001b[39m\n\u001b[32m   4105\u001b[39m \u001b[38;5;28;01mif\u001b[39;00m \u001b[38;5;28mself\u001b[39m.columns.nlevels > \u001b[32m1\u001b[39m:\n\u001b[32m   4106\u001b[39m     \u001b[38;5;28;01mreturn\u001b[39;00m \u001b[38;5;28mself\u001b[39m._getitem_multilevel(key)\n\u001b[32m-> \u001b[39m\u001b[32m4107\u001b[39m indexer = \u001b[38;5;28;43mself\u001b[39;49m\u001b[43m.\u001b[49m\u001b[43mcolumns\u001b[49m\u001b[43m.\u001b[49m\u001b[43mget_loc\u001b[49m\u001b[43m(\u001b[49m\u001b[43mkey\u001b[49m\u001b[43m)\u001b[49m\n\u001b[32m   4108\u001b[39m \u001b[38;5;28;01mif\u001b[39;00m is_integer(indexer):\n\u001b[32m   4109\u001b[39m     indexer = [indexer]\n",
      "\u001b[36mFile \u001b[39m\u001b[32m~\\AppData\\Local\\Packages\\PythonSoftwareFoundation.Python.3.12_qbz5n2kfra8p0\\LocalCache\\local-packages\\Python312\\site-packages\\pandas\\core\\indexes\\base.py:3819\u001b[39m, in \u001b[36mIndex.get_loc\u001b[39m\u001b[34m(self, key)\u001b[39m\n\u001b[32m   3814\u001b[39m     \u001b[38;5;28;01mif\u001b[39;00m \u001b[38;5;28misinstance\u001b[39m(casted_key, \u001b[38;5;28mslice\u001b[39m) \u001b[38;5;129;01mor\u001b[39;00m (\n\u001b[32m   3815\u001b[39m         \u001b[38;5;28misinstance\u001b[39m(casted_key, abc.Iterable)\n\u001b[32m   3816\u001b[39m         \u001b[38;5;129;01mand\u001b[39;00m \u001b[38;5;28many\u001b[39m(\u001b[38;5;28misinstance\u001b[39m(x, \u001b[38;5;28mslice\u001b[39m) \u001b[38;5;28;01mfor\u001b[39;00m x \u001b[38;5;129;01min\u001b[39;00m casted_key)\n\u001b[32m   3817\u001b[39m     ):\n\u001b[32m   3818\u001b[39m         \u001b[38;5;28;01mraise\u001b[39;00m InvalidIndexError(key)\n\u001b[32m-> \u001b[39m\u001b[32m3819\u001b[39m     \u001b[38;5;28;01mraise\u001b[39;00m \u001b[38;5;167;01mKeyError\u001b[39;00m(key) \u001b[38;5;28;01mfrom\u001b[39;00m\u001b[38;5;250m \u001b[39m\u001b[34;01merr\u001b[39;00m\n\u001b[32m   3820\u001b[39m \u001b[38;5;28;01mexcept\u001b[39;00m \u001b[38;5;167;01mTypeError\u001b[39;00m:\n\u001b[32m   3821\u001b[39m     \u001b[38;5;66;03m# If we have a listlike key, _check_indexing_error will raise\u001b[39;00m\n\u001b[32m   3822\u001b[39m     \u001b[38;5;66;03m#  InvalidIndexError. Otherwise we fall through and re-raise\u001b[39;00m\n\u001b[32m   3823\u001b[39m     \u001b[38;5;66;03m#  the TypeError.\u001b[39;00m\n\u001b[32m   3824\u001b[39m     \u001b[38;5;28mself\u001b[39m._check_indexing_error(key)\n",
      "\u001b[31mKeyError\u001b[39m: '2018'"
     ]
    }
   ],
   "source": [
    "# Assume two different investors invested in the GMV and MSR portfolios at the start of 2018 using the weights we just computed. Compute the annualized volatility of these two portfolios over the next 12 months of 2018? (Hint: Use the portfolio_vol code we developed in the lab and use ind[“2018”][l].cov() to compute the covariance matrix for 2018, assuming that the variable ind holds the industry returns and the variable l holds the list of industry portfolios you are willing to hold. Don’t forget to annualize the volatility)\n",
    "# What would be the annualized volatility over 2018 using the weights of the MSR portfolio?   \n",
    "cov_2018 = ind[\"2018\"][industries].cov() * 12  # Annualize monthly covariance for 2018\n",
    "vol_msr_2018 = t.portfolio_vol(msr_weights, cov_2018)\n",
    "print(f\"Annualized Volatility of MSR Portfolio in 2018: {vol_msr_2018:.4f}\")\n",
    "# What would be the annualized volatility over 2018 using the weights of the GMV portfolio?   \n",
    "vol_gmv_2018 = t.portfolio_vol(gmv_weights, cov_2018)\n",
    "print(f\"Annualized Volatility of GMV Portfolio in 2018: {vol_gmv_2018:.4f}\")    "
   ]
  },
  {
   "cell_type": "code",
   "execution_count": 30,
   "id": "215a1890",
   "metadata": {},
   "outputs": [
    {
     "name": "stdout",
     "output_type": "stream",
     "text": [
      "Available data range:\n",
      "Start: 1926-07, End: 2018-12\n",
      "\n",
      "Columns in ind_returns:\n",
      "['Food', 'Beer', 'Smoke', 'Games', 'Books', 'Hshld', 'Clths', 'Hlth', 'Chems', 'Txtls', 'Cnstr', 'Steel', 'FabPr', 'ElcEq', 'Autos', 'Carry', 'Mines', 'Coal', 'Oil', 'Util', 'Telcm', 'Servs', 'BusEq', 'Paper', 'Trans', 'Whlsl', 'Rtail', 'Meals', 'Fin', 'Other']\n",
      "\n",
      "Selected industries: ['Books', 'Steel', 'Oil', 'Mines']\n",
      "All industries found in data\n",
      "\n",
      "2018 data shape: (12, 30)\n",
      "2018 date range: 2018-01 to 2018-12\n",
      "\n",
      "Selected industries 2018 data shape: (12, 4)\n",
      "\n",
      "=== ANSWER: 2018 Portfolio Volatilities ===\n",
      "MSR Portfolio - Annualized Volatility in 2018: 0.2198\n",
      "GMV Portfolio - Annualized Volatility in 2018: 0.1897\n"
     ]
    }
   ],
   "source": [
    "# Debug the data structure and calculate 2018 volatilities\n",
    "print(\"Available data range:\")\n",
    "print(f\"Start: {ind_returns.index.min()}, End: {ind_returns.index.max()}\")\n",
    "\n",
    "print(f\"\\nColumns in ind_returns:\")\n",
    "print(ind_returns.columns.tolist())\n",
    "\n",
    "print(f\"\\nSelected industries: {industries}\")\n",
    "\n",
    "# Check if our industries exist in the data\n",
    "missing_industries = [ind for ind in industries if ind not in ind_returns.columns]\n",
    "if missing_industries:\n",
    "    print(f\"Missing industries: {missing_industries}\")\n",
    "else:\n",
    "    print(\"All industries found in data\")\n",
    "\n",
    "# Let's try a different approach - filter by year first, then select columns\n",
    "data_2018 = ind_returns[ind_returns.index.year == 2018]\n",
    "print(f\"\\n2018 data shape: {data_2018.shape}\")\n",
    "print(f\"2018 date range: {data_2018.index.min()} to {data_2018.index.max()}\")\n",
    "\n",
    "# Select our industries from 2018 data\n",
    "selected_2018 = data_2018[industries]\n",
    "print(f\"\\nSelected industries 2018 data shape: {selected_2018.shape}\")\n",
    "\n",
    "# Calculate 2018 covariance matrix for selected industries\n",
    "cov_2018 = selected_2018.cov() * 12  # Annualize monthly covariance\n",
    "\n",
    "# Calculate portfolio volatilities using the weights estimated from 2013-2017 data\n",
    "vol_msr_2018 = t.portfolio_vol(msr_weights, cov_2018)\n",
    "vol_gmv_2018 = t.portfolio_vol(gmv_weights, cov_2018)\n",
    "\n",
    "print(f\"\\n=== ANSWER: 2018 Portfolio Volatilities ===\")\n",
    "print(f\"MSR Portfolio - Annualized Volatility in 2018: {vol_msr_2018:.4f}\")\n",
    "print(f\"GMV Portfolio - Annualized Volatility in 2018: {vol_gmv_2018:.4f}\")"
   ]
  },
  {
   "cell_type": "code",
   "execution_count": 33,
   "id": "edc404dc",
   "metadata": {},
   "outputs": [
    {
     "name": "stdout",
     "output_type": "stream",
     "text": [
      "============================================================\n",
      "COMPLETE PORTFOLIO ANALYSIS SUMMARY\n",
      "============================================================\n",
      "\n",
      "1. EQUAL WEIGHT (EW) PORTFOLIO:\n",
      "   Weight of Steel: 0.2500 or 25.0%\n",
      "   All weights: Books=0.2500, Steel=0.2500, Oil=0.2500, Mines=0.2500\n",
      "\n",
      "2. MAXIMUM SHARPE RATIO (MSR) PORTFOLIO:\n",
      "   Largest component: Steel\n",
      "   Largest weight: 1.0000 or 100.0%\n",
      "   Components with non-zero weights: 1\n",
      "   All weights: Books=0.0000, Steel=1.0000, Oil=0.0000, Mines=0.0000\n",
      "\n",
      "3. GLOBAL MINIMUM VARIANCE (GMV) PORTFOLIO:\n",
      "   Largest component: Books\n",
      "   Largest weight: 0.4772 or 47.7%\n",
      "   Components with non-zero weights: 3\n",
      "   All weights: Books=0.4772, Steel=0.0000, Oil=0.4340, Mines=0.0888\n",
      "\n",
      "4. 2018 OUT-OF-SAMPLE VOLATILITIES:\n",
      "   MSR Portfolio: 0.2198 or 21.98%\n",
      "   GMV Portfolio: 0.1897 or 18.97%\n",
      "\n",
      "Note: Portfolio weights were estimated using 2013-2017 data\n",
      "2018 volatilities were calculated using actual 2018 covariance matrix\n",
      "Annualized Volatility of MSR Portfolio in 2018: 0.2198\n",
      "Annualized Volatility of GMV Portfolio in 2018: 0.1897\n"
     ]
    }
   ],
   "source": [
    "# Summary of Portfolio Analysis Results\n",
    "print(\"=\"*60)\n",
    "print(\"COMPLETE PORTFOLIO ANALYSIS SUMMARY\")\n",
    "print(\"=\"*60)\n",
    "\n",
    "print(f\"\\n1. EQUAL WEIGHT (EW) PORTFOLIO:\")\n",
    "print(f\"   Weight of Steel: {steel_weight_ew:.4f} or {steel_weight_ew * 100:.1f}%\")\n",
    "print(f\"   All weights: Books={ew_weights[0]:.4f}, Steel={ew_weights[1]:.4f}, Oil={ew_weights[2]:.4f}, Mines={ew_weights[3]:.4f}\")\n",
    "\n",
    "print(f\"\\n2. MAXIMUM SHARPE RATIO (MSR) PORTFOLIO:\")\n",
    "print(f\"   Largest component: {largest_msr_component}\")\n",
    "print(f\"   Largest weight: {largest_msr_weight:.4f} or {largest_msr_weight * 100:.1f}%\")\n",
    "print(f\"   Components with non-zero weights: {non_zero_weights_count}\")\n",
    "print(f\"   All weights: Books={msr_weights[0]:.4f}, Steel={msr_weights[1]:.4f}, Oil={msr_weights[2]:.4f}, Mines={msr_weights[3]:.4f}\")\n",
    "\n",
    "print(f\"\\n3. GLOBAL MINIMUM VARIANCE (GMV) PORTFOLIO:\")\n",
    "print(f\"   Largest component: {largest_gmv_component}\")\n",
    "print(f\"   Largest weight: {largest_gmv_weight:.4f} or {largest_gmv_weight * 100:.1f}%\")\n",
    "print(f\"   Components with non-zero weights: {non_zero_gmv_weights_count}\")\n",
    "print(f\"   All weights: Books={gmv_weights[0]:.4f}, Steel={gmv_weights[1]:.4f}, Oil={gmv_weights[2]:.4f}, Mines={gmv_weights[3]:.4f}\")\n",
    "\n",
    "print(f\"\\n4. 2018 OUT-OF-SAMPLE VOLATILITIES:\")\n",
    "print(f\"   MSR Portfolio: {vol_msr_2018:.4f} or {vol_msr_2018 * 100:.2f}%\")\n",
    "print(f\"   GMV Portfolio: {vol_gmv_2018:.4f} or {vol_gmv_2018 * 100:.2f}%\")\n",
    "\n",
    "print(f\"\\nNote: Portfolio weights were estimated using 2013-2017 data\")\n",
    "print(f\"2018 volatilities were calculated using actual 2018 covariance matrix\")\n",
    "\n",
    "\n",
    "# So what would the annualized volatility be for the MSR and GMV portfolios over 2018 using the weights we just computed?    of the MSR portfolio have non-zero weights?\n",
    "vol_msr_2018 = t.portfolio_vol(msr_weights, cov_2018)\n",
    "vol_gmv_2018 = t.portfolio_vol(gmv_weights, cov_2018)\n",
    "print(f\"Annualized Volatility of MSR Portfolio in 2018: {vol_msr_2018:.4f}\")\n",
    "print(f\"Annualized Volatility of GMV Portfolio in 2018: {vol_gmv_2018:.4f}\")    \n"
   ]
  },
  {
   "cell_type": "code",
   "execution_count": 34,
   "id": "ea51187c",
   "metadata": {},
   "outputs": [
    {
     "name": "stdout",
     "output_type": "stream",
     "text": [
      "Annualized Volatility of GMV Portfolio in 2018: 0.1897\n"
     ]
    }
   ],
   "source": [
    "#12.\n",
    "#Question 12\n",
    "#What would be the annualized volatility over 2018 using the weights of the GMV portfolio? (Reminder and Hint: Use the portfolio_vol code we developed in the lab and use ind[“2018”][l].cov() to compute the covariance matrix for 2018, assuming that the variable ind holds the industry returns and the variable l holds the list of industry portfolios you are willing to hold. Don’t forget to annualize the volatility)\n",
    "annualized_vol_gmv_2018 = t.portfolio_vol(gmv_weights, cov_2018)\n",
    "print(f\"Annualized Volatility of GMV Portfolio in 2018: {annualized_vol_gmv_2018:.4f}\")     \n"
   ]
  },
  {
   "cell_type": "markdown",
   "id": "33e593ed",
   "metadata": {},
   "source": []
  }
 ],
 "metadata": {
  "kernelspec": {
   "display_name": "Python 3",
   "language": "python",
   "name": "python3"
  },
  "language_info": {
   "codemirror_mode": {
    "name": "ipython",
    "version": 3
   },
   "file_extension": ".py",
   "mimetype": "text/x-python",
   "name": "python",
   "nbconvert_exporter": "python",
   "pygments_lexer": "ipython3",
   "version": "3.12.10"
  }
 },
 "nbformat": 4,
 "nbformat_minor": 5
}
