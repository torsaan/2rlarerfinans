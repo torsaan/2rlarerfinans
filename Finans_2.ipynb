{
 "cells": [
  {
   "cell_type": "markdown",
   "id": "4d40a715",
   "metadata": {},
   "source": [
    "# Lecture Notes: The Magic of Diversification\n",
    "\n",
    "**Date:** September 6, 2025\n",
    "\n",
    "*This lecture introduces the core concept of portfolio construction: how combining assets can magically reduce risk through diversification.*\n",
    "\n",
    "---\n",
    "\n",
    "##  Core Questions & Learning Objectives\n",
    "\n",
    "* **Objective 1:** Understand the relationship between risk (volatility) and return in a portfolio.\n",
    "* **Objective 2:** Learn how to calculate the return and volatility of a two-asset portfolio.\n",
    "* **Objective 3:** Discover why **correlation** is the key factor that makes diversification possible.\n",
    "* **Objective 4:** Recognize that combining assets can create a portfolio with lower risk than any of its individual components.\n",
    "\n",
    "---\n",
    "\n",
    "##  Lecture Notes\n",
    "\n",
    "### Topic 1: The Risk/Return Framework\n",
    "\n",
    "* Portfolios are analyzed in a **mean-variance framework**, which plots expected return (mean) on the y-axis against risk (standard deviation or variance) on the x-axis. \n",
    "* **Asset A:** 4% Return, 10% Volatility\n",
    "* **Asset B:** 6% Return, 14% Volatility\n",
    "* **Question:** What happens when we combine Asset A and Asset B into a single portfolio?\n",
    "\n",
    "### Topic 2: Calculating Portfolio Return and Risk\n",
    "\n",
    "#### Portfolio Return (The Simple Part)\n",
    "* The return of a portfolio is simply the **weighted average** of the returns of its components.\n",
    "* **Example:** A portfolio with 50% in Asset A and 50% in Asset B.\n",
    "    * Return = (0.50 * 4%) + (0.50 * 6%) = **5%**\n",
    "* This calculation is straightforward and predictable.\n",
    "\n",
    "#### Portfolio Risk (The Magical Part)\n",
    "* The risk (volatility) of a portfolio is **NOT** simply the weighted average of the individual asset risks.\n",
    "* The calculation is more complex and depends critically on the **correlation** between the assets.\n",
    "    * **Correlation:** A measure of how two assets move in relation to each other. It ranges from +1 (perfectly correlated) to -1 (perfectly negatively correlated).\n",
    "* **Formula for a Two-Asset Portfolio Variance:**\n",
    "    > σ²p = (wA² * σA²) + (wB² * σB²) + (2 * wA * wB * σA * σB * ρAB)\n",
    "    * Where `w` is the weight, `σ` is the volatility (standard deviation), and `ρ` (rho) is the correlation coefficient.\n",
    "\n",
    "### Topic 3: The Role of Correlation in Diversification\n",
    "\n",
    "* **If Correlation = 1 (Perfectly Correlated):**\n",
    "    * The assets move in perfect lockstep.\n",
    "    * There is **no diversification benefit**. The portfolio's risk is simply the weighted average of the individual risks. The risk/return plot is a straight line between Asset A and Asset B.\n",
    "* **If Correlation < 1 (Imperfectly Correlated):**\n",
    "    * The assets do not move perfectly together. One might zig while the other zags.\n",
    "    * This is where the magic happens. The combined portfolio's volatility will be **less** than the weighted average.\n",
    "    * The lower the correlation, the more the risk is reduced.\n",
    "* **Example from Lecture:**\n",
    "    * Assuming a correlation of **0.4** between Asset A and B.\n",
    "    * A 50/50 portfolio would have a volatility of **10.10%**.\n",
    "    * This is significantly less than the weighted average of 12% ((0.5 * 10%) + (0.5 * 14%)).\n",
    "\n",
    "---\n",
    "\n",
    "##  Key Takeaways & Summary\n",
    "\n",
    "1.  **The Only Free Lunch in Finance:** Diversification is the ability to reduce a portfolio's risk without sacrificing expected return. This is achieved by combining assets that are not perfectly correlated.\n",
    "\n",
    "\n",
    "\n",
    "\n",
    "2.  **The Power of Low Correlation:** The lower the correlation between assets, the greater the diversification benefit. The risk/return plot between two assets curves outwards, creating portfolios that are superior to a simple weighted average.\n",
    "3.  **The \"Magic\" Result:** It is possible to combine two risky assets and create a portfolio that has a **lower volatility than either of the individual assets**. This occurs at the \"nose\" of the curved line connecting the two assets on the risk/return plot. \n",
    "4.  **Foundation of Portfolio Construction:** Exploiting this feature—combining decorrelated assets to reduce risk—is the fundamental principle behind all modern portfolio construction.\n",
    "\n",
    "---\n",
    "\n",
    "##  Questions & Further Clarification\n",
    "\n",
    "* What happens to the diversification benefit as correlation approaches -1?\n",
    "* How do we accurately estimate the future correlation between two assets?\n",
    "\n"
   ]
  },
  {
   "cell_type": "markdown",
   "id": "d3fdc01e",
   "metadata": {},
   "source": [
    "##"
   ]
  },
  {
   "cell_type": "code",
   "execution_count": null,
   "id": "38623272",
   "metadata": {
    "vscode": {
     "languageId": "plaintext"
    }
   },
   "outputs": [],
   "source": []
  },
  {
   "cell_type": "markdown",
   "id": "32f1c473",
   "metadata": {},
   "source": []
  },
  {
   "cell_type": "code",
   "execution_count": null,
   "id": "d392953b",
   "metadata": {
    "vscode": {
     "languageId": "plaintext"
    }
   },
   "outputs": [],
   "source": []
  },
  {
   "cell_type": "markdown",
   "id": "e0f6a6cd",
   "metadata": {},
   "source": []
  },
  {
   "cell_type": "code",
   "execution_count": null,
   "id": "a95e1690",
   "metadata": {
    "vscode": {
     "languageId": "plaintext"
    }
   },
   "outputs": [],
   "source": []
  },
  {
   "cell_type": "markdown",
   "id": "f937adc5",
   "metadata": {},
   "source": []
  }
 ],
 "metadata": {
  "language_info": {
   "name": "python"
  }
 },
 "nbformat": 4,
 "nbformat_minor": 5
}
