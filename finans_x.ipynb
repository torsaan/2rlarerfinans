{
 "cells": [
  {
   "cell_type": "markdown",
   "id": "b86acaf3",
   "metadata": {},
   "source": [
    "# Asset Classes - One time horizon \n"
   ]
  },
  {
   "cell_type": "markdown",
   "id": "4c5e9aac",
   "metadata": {},
   "source": [
    "# Retail vs Personal "
   ]
  },
  {
   "cell_type": "markdown",
   "id": "c4485f7e",
   "metadata": {},
   "source": [
    "# Pricing Power & Control   "
   ]
  },
  {
   "cell_type": "markdown",
   "id": "f3426563",
   "metadata": {},
   "source": [
    "# Broker \n",
    "\n",
    "They connect us with whomever have the stock , so they work as a middle man , so we dont need to trade directly. Most of this is alsoo now online and with technology we can just click 4 buttons , provide an ID and we are good to go. in the old days we had to phone in.\n",
    "\n",
    "## How brokers get paid \n",
    "\n",
    "* Spread : Bid-Ask spread, more of a hidden fee , at any given moment there are two prices for a stock, the ask price(sell) and the bid price (buy). The spread is that tiny differnce in the midel and brokers make profit from it. \n",
    "\n",
    "* Commission :  Direct fee you pay for making a trade , 1kr nordnet Oslo Børs f.eks  \n"
   ]
  },
  {
   "cell_type": "markdown",
   "id": "c546f02c",
   "metadata": {},
   "source": [
    "# Margin \n",
    "\n",
    "Collateral , your own money that must be kept in an account to cover the risk of the trades. \n",
    "\n",
    "* We started with $5,000 of our own money to control a $10,000 position. In that case, how much margin did we initially put up?     50%%"
   ]
  },
  {
   "cell_type": "markdown",
   "id": "1c3ce33c",
   "metadata": {},
   "source": [
    "# Volatility \n",
    "Volatility measures how much a stock or an asset goes up and down in value . You could look at things like daily highs and lows , monthly highs and lows etc.\n",
    "\n",
    "\n",
    "\n",
    "High volatility is an indicator of risk. If something goes up and down alot this means that there's a chance for volume to accumalte. Volume usually clusters together. If something has a lot of volume that means that the stock is liquid. Meaning you can easily get in and out. \n",
    "\n",
    "* Volatility measures how much the price moves.\n",
    "\n",
    "* Volume measures how many shares are traded.\n",
    "\n",
    "* Liquidity measures how easily you can buy or sell without moving the price.\n",
    "\n",
    "They often rise together, but not always. To help clarify the distinction, consider this scenario:\n",
    "\n",
    "Imagine two different assets.\n",
    "\n",
    "* Asset A's price swings wildly between $50 and $150 every week, but very few units are ever traded.\n",
    "\n",
    "* Asset B's price stays in a tight range, moving only between $99 and $101, but millions of units are traded every hour.\n",
    "\n",
    "Which of these two assets is more volatile?\n",
    "* A: price swings are huge, which is the definition of high volatility. The low trading volume just means it's also illiquid"
   ]
  },
  {
   "cell_type": "markdown",
   "id": "3e05d82a",
   "metadata": {},
   "source": [
    "# Technology & Infrastructure "
   ]
  },
  {
   "cell_type": "markdown",
   "id": "adf08c33",
   "metadata": {},
   "source": [
    "# Leverage\n",
    "\n",
    "Using borrowed money to increase investment position, gains are amplified and losses are amplified. \n",
    "\n",
    "* If you use leverage to invest in a highly volatile asset, what do you think happens to both your potential gains and your potential losses? \n",
    "\n",
    "My potential gains are amplified . \n",
    "My potential losses are also ampplified , i might get margin called on my leverage and lose everything the asset dips too much. \n",
    "Timing will be important here , stop loss .\n"
   ]
  },
  {
   "cell_type": "markdown",
   "id": "95cf424e",
   "metadata": {},
   "source": [
    "# Margin Call       \n",
    "If you get a margin call that would be whomever borrowed you the money would want you to either post more collateral or you would have to unload your position, the latter is not good for both parties. As both the lender and the leandee will lose, posting more colletaeral keeps the \"position\" alive and there's chance for upside. \n",
    "\n",
    "\n",
    "##### Margin call example \n",
    "* You have $5,000 of your own money.\n",
    "\n",
    "* You borrow another $5,000 from your broker to buy $10,000 worth of a stock.\n",
    "\n",
    "* Your broker has a maintenance margin requirement of 30%. This means the value of your own money (your equity) in the account can never drop below 30% of the total investment's value.\n",
    "\n",
    "\n",
    "Right at the very beginning, before the stock price moves, what percentage of the total $10,000 investment is your own money?\n",
    "* 50 % \n",
    "\n",
    "#### Let's say the stock has a bad day and the total value of your investment drops by 30%.\n",
    "\n",
    "* What is the new total value of your investment?\n",
    "7000 \n",
    "\n",
    "* The amount you borrowed from the broker is still $5,000. So, how much of your own money (your equity) is left in the account?\n",
    "2000 \n",
    "\n",
    "* Are you still inside of the 30% Margin ? \n",
    "No , (2000/7000)*100 = 28.571 . We will need to post more capital or they will sell our position \n"
   ]
  },
  {
   "cell_type": "markdown",
   "id": "7d067b97",
   "metadata": {},
   "source": [
    "# ETFs\n",
    "### Exchange-Traded Fund\n",
    "\n",
    "* Fund : A single investment that holds a collection of assets (stocks or bonds etc) \n",
    "* Exchange Traded: You can buy and sell it on a stock exchange , Nordnet funds \n",
    "\n",
    "##### What do you think is the biggest advantage of buying one ETF that tracks the entire S&P 500 (the 500 largest US companies) versus trying to buy all 500 of those stocks individually?\n",
    "\n",
    "The biggest advantage of buying one ETF that tracks the entire S&P 500 versus buying all 500 stocks indivudually is that it will automaticlly buy and sell if a company drops out of the top 500. Meaning that its diversifying and updating over time. You will then not need to diversify further since if a specific sectors is dropping out the position will be offleaded , risk will be spread. \n",
    " Cost and simplicity, instant diversification , automatic rebalacing. "
   ]
  },
  {
   "cell_type": "markdown",
   "id": "ee557772",
   "metadata": {},
   "source": [
    "# Options , puts & calls \n",
    "\n",
    "A contract that gives the owner of the contract but not the obligation to buy or sell an asset at a predetermined price on or before a specific date. \n",
    "\n",
    "* CALL option: Gives you the right to buy and asset at a set price \n",
    "* PUT  option: Gives you the right to sell an asset at a set price \n",
    "\n",
    "#### If you are very confident that the price of a stock is going to rise significantly, which type of option contract would give you the right to profit from that increase? A Call or a Put?\n",
    "\n",
    "A call would allow you to buy it cheaper, therefor if it rises you can still buy it at the price you set. \n",
    "\n",
    "\n",
    "#### Imagine you are convinced a company's stock is about to fall sharply. How could a Put Option—which gives you the right to sell the stock at a higher, locked-in price—be used to profit from that drop?\n",
    "\n",
    "A put option would allow you to sell the stock at the higher price before the drop after the drop. Meaning that lets say you have 100 stocks and they current date cost 1$. If the price drops to 0.5$ , you are still allowed to sell your stocks at 1$ , meaning you hold 2x the value. \n",
    "\n",
    "\n",
    "\n",
    "\n"
   ]
  },
  {
   "cell_type": "markdown",
   "id": "9f444742",
   "metadata": {},
   "source": [
    "# Financing Turn "
   ]
  },
  {
   "cell_type": "markdown",
   "id": "b55029f1",
   "metadata": {},
   "source": [
    "# Dumb money & Smart Money \n",
    "\n",
    "* Dumb money referes to small investors , like individuals , these are assumed to be driven by things like fear of missing out and greed. \n",
    "\n",
    "* Smart money refers to big instutuains like hedge funds and pension funds. They are assumed to be more analytical , data driven and having access to better information. \n",
    "\n",
    "##### A popular tech stock has just soared 20% in one week, and the news is filled with exciting headlines about it. What do you think is the most likely reaction from the \"Dumb Money\" group?\n",
    "\n",
    "\n",
    "To buy it. \n",
    "\n",
    "##### If the \"Smart Money\" group is more analytical and often acts as a contrarian (meaning they trade against the prevailing market sentiment), what do you think they might be doing with their shares while everyone else is rushing to buy?\n",
    "\n",
    "Often acting as a contratian to the \"dumb money\" they are more likley to sell , by all accounts they have already made 20% gains. They could for an exmaple buy a put option for a week, two weeks a month later when the dumb money realizes that the stock will not keep going up forever,  this is called mean reversion. \n",
    "\n",
    "\n",
    "##### what is the fundamental belief about the stock's future price that separates the \"Smart Money\" seller from the \"Dumb Money\" buyer at this exact moment?\n",
    "\n",
    "The lack of taking a few steps back, looking at data to derive trends and logical conclusion from analyzing what has happened to make a more accurate forecast of what will happen. Even though noone can predict the future. You could conclude with the stock now being overvalued and it falling down or having a correction is most likley bound to happen, even though 3-4-5-6 sigma events happen. "
   ]
  },
  {
   "cell_type": "markdown",
   "id": "f02fe2cc",
   "metadata": {},
   "source": [
    "# The Inversion Narative \n",
    "Signal that comes from the bond market, often interepted as a warning sign of an upcoming recession. \n",
    "* Yield curve: Graph that plots the intereset rate or yield of goverment bonds against their maturity date(length of loan). Normally the Curve slopes upwards, meaning trhat longer-term bonds pay a higher inteerest rate then shorter term bonds. \n",
    "\n",
    "* if the upward-sloping curve is normal, the \"Inversion Narrative\" begins when the opposite happens. \n",
    "\n",
    "* An inverted yield curve is the rare situation when short-term bonds start paying a higher interest rate than long-term bonds. The whole curve flips upside down. This is a powerful signal. It suggests that, right now, big investors believe the immediate future (the next 1-2 years) is actually riskier than the distant future.\n",
    "\n",
    "\n",
    "##### Thinking about it from the lender's perspective, why would you normally demand a higher interest rate to loan your money out for 10 years versus loaning it out for only 1 year? What are the risks of a longer loan?\n",
    "\n",
    "You can think of lending money like buying an asset(stock), the longer you are in the market the longer there's a chance of something going wrong. Therefor you would want to get your money back as soon as possiable. Inflation can rice and reduce the value of your investment. Generel uncertanty, to compensate for the extra risk you want extra reward(higher intreset rate)\n",
    "\n",
    "##### What major economic event do you think would make thousands of investors so worried about the near-term that they would all rush to lock their money away for 10 years, even if it means accepting a lower interest rate?\n",
    "\n",
    "A crisis , 2008 , a recession coming causes an inversion. Cutting the intresert  rate to stimulate the economy causes investross to lock up their money before that, to get higher rates before the cut happens. The wave of demand for long term bonds, causes a satiration in the market and the prices get pushed up causing the yields to go down. \n"
   ]
  },
  {
   "cell_type": "markdown",
   "id": "989e5f39",
   "metadata": {},
   "source": [
    "# The Negative feedback loop \n",
    "\n",
    "Concept that describes how market downturns can sometimes accelerate and spiral into a crash.\n",
    "\n",
    "##### How do you think that same self-reinforcing idea could apply to a falling stock market? What happens when prices start to drop?\n",
    "\n",
    "When prices start to drop, people panic, volume clusters causing huge swings , volatility. Spike in selling volume and volatility."
   ]
  },
  {
   "cell_type": "markdown",
   "id": "1d71613b",
   "metadata": {},
   "source": [
    "# Investment Pshycology 1001-3003. \n",
    "![Market Emotions](fin_img/Marketemotions.jpg)\n",
    "### Humans are irrational \n",
    "Traditional finance assumes people are rational economic beings who always make descisions to maximize their wealth. Investment psychology assumes the opposite: Investors are often irrational. Our descisions are swayed by emotions, cognetive erros and social influences. This irrationality helpes explain why markets can be so volatile, creating bubbles and crashes. \n",
    "\n",
    "\n",
    "### Key Cognetive biases(Errors in thinking)\n",
    "* Confimation Bias : seek out and favor information that confirms your existing beliefs  while ignoring contradictory evidence. \n",
    "* Overconfidence Bias : Beliving that you are smarter and more skilled then you actually are. Leading to excessive trading, under diversifying and underestimating risks.  \n",
    "* Anchoring Bias : Relying to heavily on the first piece of information you recive. Stock goes from 100 to 60 , you are certain it will go back to 100 and then you sell it. \n",
    "\n",
    "* Herding instinct: Individuals follow the actions of a larger group , people buying in a bubble because everying else is buying(greed) and they panic sell during a crash because everyone else is selling (fear)\n",
    "\n",
    "\n",
    "### Key Emotional Biases ( Feelings over facts )\n",
    "* Loss aversion : Pshycologholy the pain of losing is about twice as powerful as the pleasure of gaining an equivilant amount. Causing investors to hold on to losing investments for too long hoping they will recover and sell winning investments too early to lock in a profit. \n",
    "* Fear and greed : These are the two primary emotions that drivfe market cycles. Greed leads to chasing high returns and buying at market peaks (High risk) . Fear leads to panic selling at market bottoms (locking in losses). The goals of a good investor is to be fearful when others are greedy and greedy when others are fearful. \n",
    "\n",
    "* FOMO : A form of regret aversion, FOMO drives investors to jump into hot stocks or trends, like meme stocks or crypto crazes without proper research simply because others are making money and they dont want to be left behind. Often leading to buying at the top., \n",
    "\n",
    "\n",
    "### Countering these Biases \n",
    "\n",
    "* Create a rule based investrment plan: Write down goals , strategy and rules for diversification. Stick to this plan not matter what, rules for deviations. \n",
    "\n",
    "* Automate investments: Dollar cost averaging, example , removes emotion from the descision making process. \n",
    "\n",
    "* Investment journal: Document why something was bought or sold. Forces investor to think logically and allows you to go back and review descisions and their outcomes. \n",
    "\n",
    "* Long term: Volatility is normal in the short term , by fopcusing on long term goals you are less likley to be spooked by short term market noise. \n",
    "\n",
    "\n"
   ]
  },
  {
   "cell_type": "markdown",
   "id": "be84a087",
   "metadata": {},
   "source": [
    "# Markets 1001 - 3003. \n",
    "\n"
   ]
  },
  {
   "cell_type": "markdown",
   "id": "2da5c0a5",
   "metadata": {},
   "source": [
    "# Bare minimum math understanding FIN 1001 - 3003 "
   ]
  },
  {
   "cell_type": "markdown",
   "id": "3c91acfc",
   "metadata": {},
   "source": [
    "# Concepts like mean inversion , other important ones "
   ]
  },
  {
   "cell_type": "markdown",
   "id": "6f1e6935",
   "metadata": {},
   "source": [
    "    "
   ]
  },
  {
   "cell_type": "markdown",
   "id": "8ed89a6b",
   "metadata": {},
   "source": [
    "\n",
    "\n",
    "# The roaring Twenties 1920 -> Great Depression 1929\n",
    "\n",
    "1920s had a period of massive economic optimism and growth. The automobile, radio and other technologies where changing society. The stock market seemed to only go up and it felt like a permannt new era of prosperity had begun. \n",
    "\n",
    "Main factors for shaky foundation of this roar: \n",
    "* A massive stock market bubble, prices became disconnected from their actual value (company earnings). Another key problem was buying on margin. Where regular people borrowed huge amounts of money to speculate on stocks dirving prices even higher. Menaing that people where over levereged in a speculative bubble. \n",
    "\n",
    "* Uneven distrubution of wealth: While the rich got much richer, a large portion of the population particily farmers were struggeling with debt and low prices. This lead to not enough broad purchasing power to sustaion the economic boom\n",
    "\n",
    "* Weak banking system: Thousands of small independeant banks operated with little regulation, when loans went bad there was no saftey net and bank failuers could spread quickly. \n",
    "\n",
    "##### Given this environment of a seemingly endless stock market boom and easy borrowing, what kind of investor behavior do you think became the norm? How does it relate to the \"Dumb Money vs. Smart Money\" idea we discussed\n",
    "\n",
    "This seems like the smart money was taking all the dumb money. There was a huge amount of FOMO leading to volume and volatility spiking , this went well aslong as everything kept going upwards. \n",
    "\n",
    "## Black Tuesday : Trigger event \n",
    "After the market peaked in September 1929 it began to show signs of weaknes making investors nervous. The panic set in during late October untill October 29. On this day a massive wave orf selling high the market as the confidence in the market evaporated. When prices began to tumble all the people who bought stocks using leverage could not cover the margin and were forced out of the market. \n",
    "\n",
    "\n",
    "#### Based on our earlier discussion, what happens in a negative feedback loop when a wave of forced selling from margin calls hits an already panicked market?\n",
    "\n",
    "The market would then drop exponentially as the lenders just want to cut their losses. The lendees are left with 0. \n",
    "\n",
    "## Post Great Depression \n",
    "\n",
    "* Wide spread bank failures , people who deposited their live savings lost everything as the banks become insolvant. \n",
    "\n",
    "* Econmomic collapse, The crash wiped out fortunes shattered consumer and buiness confidence. People stopped spending money , companies stopped investing. This lead to catastrophic buiness failuers and mast unemployment , 25% in the US. \n",
    "\n",
    "* Global impact: The criss pread throughout the world as the US economy was a criticlal engine for the global trade and finance. \n",
    "\n",
    "The Great Depression was so severe that it led to a fundamental rethinking of the government's role in the economy, including the creation of major regulations and social safety nets like bank deposit insurance.\n"
   ]
  },
  {
   "cell_type": "markdown",
   "id": "ca2f7eb6",
   "metadata": {},
   "source": [
    "# The new economy 1990 -> The Dot-Com-bubble 2000\n",
    "Money started flowing in into everythign that had to do with this new thing called the internet.  Entusiamism and optimism way too high \n",
    "\n",
    "* Speculation : A lot of investors invested in companies just because they had .com in their name without looking at if they actually made any money. Companies were being valued from number of clicks or visits to the website, not profit \n",
    "\n",
    "* FOMO: Normal people flung themselves into the stuck market at the fear of missing out on this new gold rush. Many quit their jobs to become day traders. \n",
    "\n",
    "* Easy Access to capital:  Investros were so eager to find the next big thing that they gave a ton of capital to new comapnies without a clear plan . \n",
    "\n",
    "##### This rush to invest in a hot new technology and the belief that \"this time it's different\" might sound familiar. How does the investor psychology here compare to what we discussed happening in the Roaring Twenties?\n",
    "\n",
    "\n",
    "It's the same FOMO, even though indivudils might not be able to levarge themselves as hard with new regulations in place, the big investors are already sitting with a ton of capital and are afraid of missing out. People not taking a step back and looking at the big picture. Looking at the underlying value is not being done. \n",
    "\n",
    "## The trigger, Sentiment Shift \n",
    "Unlike 1929 , there was a slow leak and shift in investor sentiment, after years of ignoring profitability investors started looking into how these companies are actually going to make money. \n",
    "\n",
    "The federal resereve also started raising intreset rates to cool down the overheated economy , which made it more expensive for these unprofitiable comaponies to borrow the cash they needed to survive. \n",
    "\n",
    "\n",
    "#### So, once the easy money from investors started to dry up and the market began demanding actual profits, what was the inevitable outcome for hundreds of these dot-com companies that had no clear path to profitability?\n",
    "\n",
    "\n",
    "They would go bankkrupt as they had no actually value and would not be able to sustain. Meaning their cash burn rate would be too high, but they had no actuall value so that doesnt really make sense either. \n",
    "\n",
    "NASDAQ stock index (  tech heavy) lost almost 80% of its value between peak in 2000 and its low in 2002. Trillions of dollars wiped out of the market. \n",
    "\n",
    "Widespread eceonomy fails: Hundrers of high profile .com companies went out of buisness. \n",
    "\n",
    "Contained recession: Unlike the great depression it was a mild recession , did not cause systemtic banking criss and damage was contained to the tech sector and investors portfolions . "
   ]
  },
  {
   "cell_type": "markdown",
   "id": "6a40c98d",
   "metadata": {},
   "source": [
    "# 2008\n"
   ]
  },
  {
   "cell_type": "markdown",
   "id": "541287f6",
   "metadata": {},
   "source": []
  }
 ],
 "metadata": {
  "language_info": {
   "name": "python"
  }
 },
 "nbformat": 4,
 "nbformat_minor": 5
}
