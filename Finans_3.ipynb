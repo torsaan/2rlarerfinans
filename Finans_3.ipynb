{
 "cells": [
  {
   "cell_type": "markdown",
   "id": "9d6d160d",
   "metadata": {},
   "source": [
    "# Beyond Diversification                             \n",
    "\n"
   ]
  },
  {
   "cell_type": "markdown",
   "id": "551e5607",
   "metadata": {},
   "source": [
    "# Limits of diversification \n",
    "* Benefits: Not holding unrewarding risk , dead risk \n",
    "* Drawbacks: \n",
    "* Limits (B\\W): Will fail when you need it the most (Crisis), can not counter systematic risk only for specific risk. IE Nuclear energy goes down because of event, if not 100% in nuclear energy but some in solar, solar might go up. Now you could again say that you are at specific risk within the energy sector as your assests are still correleated within a certain sector. Next would be that you are in the energy/tech/industry sector and we could keep going...//\n",
    "\n",
    "Systemic risk you cannot diverfsify from ,if all stocks go down 20% in a crisis, all stocks go down, i would argue that things like bonds are maybe an exception , or if you put the money in lets say the housing market it might not also drop 20 % but that\\s maybe outside of the scope.\n",
    "\n",
    "idiosyncratic risk / specific risk\n",
    "\n",
    "You can however diversify against a specific risk.\n",
    "\n",
    "\n",
    "#### Hedging\n",
    "* Hedging is symmetric: you sacrifice potential gains to eliminate potential losses. It's like putting a governor on your car's engine that prevents it from going over 50 mph, but also keeps it from stalling. It’s safe, but you miss out on the open road.\n",
    "Hedging is the only effective way to obain downside procetion. Hedging is that investros give up on the upside at the same time they give up on the downside. Only for really wealthy investors. \n",
    "\n",
    "\n",
    "#### Innsurance \n",
    "Get downside procetion while allowing for upside potential. \n",
    "Dynamic hedging == Insurance \n",
    "The best of both worlds -> Not going to fast or too slow, finding the perfect speed. \n",
    "Portfolio Insurance is asymmetric: it aims to give you the \"best of both worlds.\" It tries to protect your downside while still letting you capture upside growth.\n",
    "\n",
    "Margin for error: \n",
    "\n",
    "\n"
   ]
  },
  {
   "cell_type": "markdown",
   "id": "8ad5af43",
   "metadata": {},
   "source": [
    "# Introduction to CPPI \n",
    "\n",
    "#### Constants propotion portiofoloio insurance \n",
    "\n",
    "1. Floor: The minimum value of your portfolio you want to protect \n",
    "2. Cushon: The amount of money you can afford to lose / the money you can afford to risk (Cushon = Total assets - floor)\n",
    "3. Multiplier(M): The aggresiveness dial of your investment, determines how much you invest in risky assets. \n",
    "\n",
    "Amount in risky assets = Multiplier(M)  x   Cushion.\n",
    "This works if you trade all the time, but you will maybe get eaten by transaction fees, so therefor this is hard to do in real life. If you slow down the frequency of your trades the cushon gap might \"buffer\" might not be enough for your entire portfolio to go under the floor. Gap Risk .\n",
    "\n",
    "\n",
    "If M is big your cushion gets \"eaten away\" faster if your assets go in the red or the market crashes. You will then most likley end up below your floor value. If you are careful when setting this value you can combat the gap risk. \n",
    "\n",
    "Allows for thje construction of convex payoffs , this produced dyanlicly allocates total assets to a risky asset to a safe asset. \n",
    "\n",
    "Gap RISK - You need to trade frequently. \n"
   ]
  },
  {
   "cell_type": "markdown",
   "id": "b965d167",
   "metadata": {},
   "source": []
  },
  {
   "cell_type": "markdown",
   "id": "083bc81f",
   "metadata": {},
   "source": []
  },
  {
   "cell_type": "markdown",
   "id": "e42131a3",
   "metadata": {},
   "source": []
  },
  {
   "cell_type": "markdown",
   "id": "d7a9ce02",
   "metadata": {},
   "source": []
  }
 ],
 "metadata": {
  "language_info": {
   "name": "python"
  }
 },
 "nbformat": 4,
 "nbformat_minor": 5
}
