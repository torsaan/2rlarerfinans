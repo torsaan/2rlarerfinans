{
 "cells": [
  {
   "cell_type": "markdown",
   "id": "9d6d160d",
   "metadata": {},
   "source": [
    "# Beyond Diversification                             \n",
    "\n"
   ]
  },
  {
   "cell_type": "markdown",
   "id": "551e5607",
   "metadata": {},
   "source": [
    "# Limits of diversification \n",
    "* Benefits: Not holding unrewarding risk , dead risk \n",
    "* Drawbacks: \n",
    "* Limits (B\\W): Will fail when you need it the most (Crisis), can not counter systematic risk only for specific risk. IE Nuclear energy goes down because of event, if not 100% in nuclear energy but some in solar, solar might go up. \n",
    "\n",
    "\n",
    "\n",
    "#### Hedging \n",
    "Hedging is the only effective way to obain downside procetion. Hedging is that investros give up on the upside at the same time they give up on the downside. Only for really wealthy investors. \n",
    "\n",
    "\n",
    "#### Innsurance \n",
    "Get downside procetion while allowing for upside potential. \n",
    "Dynamic hedging == Insurance \n",
    "The best of both worlds -> Not going to fast or too slow, finding the perfect speed. \n",
    "\n",
    "\n",
    "Margin for error: \n",
    "\n",
    "\n",
    "    "
   ]
  },
  {
   "cell_type": "markdown",
   "id": "8ad5af43",
   "metadata": {},
   "source": [
    "# Introductoin to CPPI \n",
    "\n",
    "#### Constants propotion portiofoloio insurance \n",
    "\n",
    "Allows for thje construction of convex payoffs , this produced dyanlicly allocates total assets to a risky asset to a safe asset. \n",
    "\n",
    "Gap RISK - You need to trade frequently. \n"
   ]
  },
  {
   "cell_type": "markdown",
   "id": "b965d167",
   "metadata": {},
   "source": []
  },
  {
   "cell_type": "markdown",
   "id": "083bc81f",
   "metadata": {},
   "source": []
  },
  {
   "cell_type": "markdown",
   "id": "e42131a3",
   "metadata": {},
   "source": []
  },
  {
   "cell_type": "markdown",
   "id": "d7a9ce02",
   "metadata": {},
   "source": []
  }
 ],
 "metadata": {
  "language_info": {
   "name": "python"
  }
 },
 "nbformat": 4,
 "nbformat_minor": 5
}
