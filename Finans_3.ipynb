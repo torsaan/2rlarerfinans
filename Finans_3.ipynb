{
 "cells": [
  {
   "cell_type": "markdown",
   "id": "9d6d160d",
   "metadata": {},
   "source": [
    "# Beyon Diversification                             \n",
    "\n",
    "        "
   ]
  },
  {
   "cell_type": "markdown",
   "id": "551e5607",
   "metadata": {},
   "source": [
    "# Limits of diversification \n",
    "* Benefits: \n",
    "* Drawbacks: \n",
    "* Limits (B\\W)\n"
   ]
  },
  {
   "cell_type": "markdown",
   "id": "8ad5af43",
   "metadata": {},
   "source": []
  },
  {
   "cell_type": "markdown",
   "id": "b965d167",
   "metadata": {},
   "source": []
  },
  {
   "cell_type": "markdown",
   "id": "083bc81f",
   "metadata": {},
   "source": []
  },
  {
   "cell_type": "markdown",
   "id": "e42131a3",
   "metadata": {},
   "source": []
  },
  {
   "cell_type": "markdown",
   "id": "d7a9ce02",
   "metadata": {},
   "source": []
  }
 ],
 "metadata": {
  "language_info": {
   "name": "python"
  }
 },
 "nbformat": 4,
 "nbformat_minor": 5
}
