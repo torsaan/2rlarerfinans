{
 "cells": [
  {
   "cell_type": "markdown",
   "id": "6bf4b628",
   "metadata": {},
   "source": [
    "# Standard Risk and Performance Measures\n",
    "A portfolio's performance is typically assessed using its return over time. Key measures derived from this include:\n",
    "Return  = Profit\n",
    "Volatile = variation , opp/ned \n",
    "Avg returns not a good way to understand how assets behave. Does not capture enough \n",
    "\n",
    "$$\n",
    "R_{t,t+1} = (P_{t+1} - P_t )/ P_t \n",
    "$$\n",
    "Retuns \n",
    "0.2 / 20% , 1.2 120% \n",
    "\n",
    "Utbytte: Burde altid legges inn, called Med dividend = \"total return\". Price return = uten dividend. \n",
    "\n",
    "\n",
    "## Multi period returns: \n",
    "$$\n",
    "R_{R,t+2} = (1 + R_{t,t+1})(1+R_{t+1,t+2}) -1 \n",
    "$$\n",
    "* Compound over 2 periods \n",
    "\n",
    "$$\n",
    "(1+0.10)(1-0.03)-1 = 0.067 = 6.70%\n",
    "$$\n",
    "* Askje gir 10% profit dag 1 , 3% profit dag 2. \n",
    "\n",
    "$$\n",
    "(1+0.1)(1-0.1)-1 = -0.01 , -1%\n",
    "$$\n",
    "* Mandag:     Inngang close price mandag <null> \n",
    "*  Tirsdag:    Askje stiger 10% ifht close mandag <opp>\n",
    "*  Onsdag:     Prias synker 10 %  ifht close tirsdag <ned>"
   ]
  },
  {
   "cell_type": "code",
   "execution_count": 57,
   "id": "d1f17cd9",
   "metadata": {},
   "outputs": [
    {
     "data": {
      "text/html": [
       "<div>\n",
       "<style scoped>\n",
       "    .dataframe tbody tr th:only-of-type {\n",
       "        vertical-align: middle;\n",
       "    }\n",
       "\n",
       "    .dataframe tbody tr th {\n",
       "        vertical-align: top;\n",
       "    }\n",
       "\n",
       "    .dataframe thead th {\n",
       "        text-align: right;\n",
       "    }\n",
       "</style>\n",
       "<table border=\"1\" class=\"dataframe\">\n",
       "  <thead>\n",
       "    <tr style=\"text-align: right;\">\n",
       "      <th></th>\n",
       "      <th>Blue</th>\n",
       "      <th>Red</th>\n",
       "    </tr>\n",
       "  </thead>\n",
       "  <tbody>\n",
       "    <tr>\n",
       "      <th>0</th>\n",
       "      <td>8.7</td>\n",
       "      <td>7.5</td>\n",
       "    </tr>\n",
       "    <tr>\n",
       "      <th>1</th>\n",
       "      <td>9.1</td>\n",
       "      <td>7.9</td>\n",
       "    </tr>\n",
       "    <tr>\n",
       "      <th>2</th>\n",
       "      <td>8.5</td>\n",
       "      <td>8.0</td>\n",
       "    </tr>\n",
       "    <tr>\n",
       "      <th>3</th>\n",
       "      <td>9.0</td>\n",
       "      <td>8.3</td>\n",
       "    </tr>\n",
       "    <tr>\n",
       "      <th>4</th>\n",
       "      <td>12.1</td>\n",
       "      <td>5.3</td>\n",
       "    </tr>\n",
       "  </tbody>\n",
       "</table>\n",
       "</div>"
      ],
      "text/plain": [
       "   Blue  Red\n",
       "0   8.7  7.5\n",
       "1   9.1  7.9\n",
       "2   8.5  8.0\n",
       "3   9.0  8.3\n",
       "4  12.1  5.3"
      ]
     },
     "execution_count": 57,
     "metadata": {},
     "output_type": "execute_result"
    }
   ],
   "source": [
    "import numpy as np\n",
    "import pandas as pd\n",
    "\n",
    "prices_a = [8.7, 9.1, 8.5, 9.0]\n",
    "8.7/9.1 -1\n",
    "\n",
    "prices_a[1:]\n",
    "prices_a[:-1]\n",
    "\n",
    "priser = pd.DataFrame({\n",
    "                        \"Blue\": [8.7, 9.1, 8.5, 9.0,12.1],\n",
    "\n",
    "                        \"Red\":[7.5, 7.9, 8.0, 8.3, 5.3]\n",
    "                    })\n",
    "priser"
   ]
  },
  {
   "cell_type": "code",
   "execution_count": 58,
   "id": "f8982fb1",
   "metadata": {},
   "outputs": [
    {
     "name": "stdout",
     "output_type": "stream",
     "text": [
      "   Blue  Red\n",
      "1   9.1  7.9\n",
      "2   8.5  8.0\n",
      "3   9.0  8.3\n",
      "4  12.1  5.3\n",
      "   Blue  Red\n",
      "0   8.7  7.5\n",
      "1   9.1  7.9\n",
      "2   8.5  8.0\n",
      "3   9.0  8.3\n"
     ]
    },
    {
     "data": {
      "text/html": [
       "<div>\n",
       "<style scoped>\n",
       "    .dataframe tbody tr th:only-of-type {\n",
       "        vertical-align: middle;\n",
       "    }\n",
       "\n",
       "    .dataframe tbody tr th {\n",
       "        vertical-align: top;\n",
       "    }\n",
       "\n",
       "    .dataframe thead th {\n",
       "        text-align: right;\n",
       "    }\n",
       "</style>\n",
       "<table border=\"1\" class=\"dataframe\">\n",
       "  <thead>\n",
       "    <tr style=\"text-align: right;\">\n",
       "      <th></th>\n",
       "      <th>Blue</th>\n",
       "      <th>Red</th>\n",
       "    </tr>\n",
       "  </thead>\n",
       "  <tbody>\n",
       "    <tr>\n",
       "      <th>0</th>\n",
       "      <td>NaN</td>\n",
       "      <td>NaN</td>\n",
       "    </tr>\n",
       "    <tr>\n",
       "      <th>1</th>\n",
       "      <td>8.7</td>\n",
       "      <td>7.5</td>\n",
       "    </tr>\n",
       "    <tr>\n",
       "      <th>2</th>\n",
       "      <td>9.1</td>\n",
       "      <td>7.9</td>\n",
       "    </tr>\n",
       "    <tr>\n",
       "      <th>3</th>\n",
       "      <td>8.5</td>\n",
       "      <td>8.0</td>\n",
       "    </tr>\n",
       "    <tr>\n",
       "      <th>4</th>\n",
       "      <td>9.0</td>\n",
       "      <td>8.3</td>\n",
       "    </tr>\n",
       "  </tbody>\n",
       "</table>\n",
       "</div>"
      ],
      "text/plain": [
       "   Blue  Red\n",
       "0   NaN  NaN\n",
       "1   8.7  7.5\n",
       "2   9.1  7.9\n",
       "3   8.5  8.0\n",
       "4   9.0  8.3"
      ]
     },
     "execution_count": 58,
     "metadata": {},
     "output_type": "execute_result"
    }
   ],
   "source": [
    "print(priser.iloc[1:])\n",
    "print(priser.iloc[:-1])\n",
    "priser.shift(1)"
   ]
  },
  {
   "cell_type": "code",
   "execution_count": 59,
   "id": "ee864c3b",
   "metadata": {},
   "outputs": [
    {
     "name": "stdout",
     "output_type": "stream",
     "text": [
      "       Blue       Red\n",
      "0       NaN       NaN\n",
      "1  0.045977  0.053333\n",
      "2 -0.065934  0.012658\n",
      "3  0.058824  0.037500\n",
      "4  0.344444 -0.361446\n"
     ]
    },
    {
     "data": {
      "text/html": [
       "<div>\n",
       "<style scoped>\n",
       "    .dataframe tbody tr th:only-of-type {\n",
       "        vertical-align: middle;\n",
       "    }\n",
       "\n",
       "    .dataframe tbody tr th {\n",
       "        vertical-align: top;\n",
       "    }\n",
       "\n",
       "    .dataframe thead th {\n",
       "        text-align: right;\n",
       "    }\n",
       "</style>\n",
       "<table border=\"1\" class=\"dataframe\">\n",
       "  <thead>\n",
       "    <tr style=\"text-align: right;\">\n",
       "      <th></th>\n",
       "      <th>Blue</th>\n",
       "      <th>Red</th>\n",
       "    </tr>\n",
       "  </thead>\n",
       "  <tbody>\n",
       "    <tr>\n",
       "      <th>0</th>\n",
       "      <td>NaN</td>\n",
       "      <td>NaN</td>\n",
       "    </tr>\n",
       "    <tr>\n",
       "      <th>1</th>\n",
       "      <td>0.045977</td>\n",
       "      <td>0.053333</td>\n",
       "    </tr>\n",
       "    <tr>\n",
       "      <th>2</th>\n",
       "      <td>-0.065934</td>\n",
       "      <td>0.012658</td>\n",
       "    </tr>\n",
       "    <tr>\n",
       "      <th>3</th>\n",
       "      <td>0.058824</td>\n",
       "      <td>0.037500</td>\n",
       "    </tr>\n",
       "    <tr>\n",
       "      <th>4</th>\n",
       "      <td>0.344444</td>\n",
       "      <td>-0.361446</td>\n",
       "    </tr>\n",
       "  </tbody>\n",
       "</table>\n",
       "</div>"
      ],
      "text/plain": [
       "       Blue       Red\n",
       "0       NaN       NaN\n",
       "1  0.045977  0.053333\n",
       "2 -0.065934  0.012658\n",
       "3  0.058824  0.037500\n",
       "4  0.344444 -0.361446"
      ]
     },
     "execution_count": 59,
     "metadata": {},
     "output_type": "execute_result"
    }
   ],
   "source": [
    "print(priser/priser.shift(1)-1)\n",
    "#ingen priser for dag 1 , n priser = n-1 returns.\n",
    "priser.pct_change()\n"
   ]
  },
  {
   "cell_type": "code",
   "execution_count": 60,
   "id": "19a21218",
   "metadata": {},
   "outputs": [
    {
     "name": "stdout",
     "output_type": "stream",
     "text": [
      "        Blue       Red\n",
      "0        NaN       NaN\n",
      "1   2.557812  4.909909\n",
      "2   5.071823  1.069258\n",
      "3   0.871071  0.100569\n",
      "4   0.162105  5.781454\n",
      "5   5.945028  1.205881\n",
      "6   1.064763  0.686944\n",
      "7   0.148114  1.786258\n",
      "8   1.845070  0.683464\n",
      "9   3.636687  0.359669\n",
      "10  0.958900  4.003288\n",
      "11  0.933328  1.255413\n",
      "12  0.525554  1.075124\n",
      "13  0.328079  0.119163\n",
      "14  2.946755  0.884386\n",
      "15  1.937772  6.551387\n",
      "16  0.563786  0.776442\n",
      "17  1.083661  0.646227\n",
      "18  0.256230  1.657074\n",
      "19  0.214748  1.549347\n"
     ]
    },
    {
     "data": {
      "image/png": "[encoded data removed]",
      "text/plain": [
       "<Figure size 640x480 with 1 Axes>"
      ]
     },
     "metadata": {},
     "output_type": "display_data"
    },
    {
     "data": {
      "image/png": "[encoded data removed]",
      "text/plain": [
       "<Figure size 640x480 with 1 Axes>"
      ]
     },
     "metadata": {},
     "output_type": "display_data"
    }
   ],
   "source": [
    "import numpy as np\n",
    "import pandas as pd\n",
    "\n",
    "# Generate a DataFrame with 2 columns and 20 rows of random numbers\n",
    "random_data = pd.DataFrame(np.random.rand(20, 2), columns=['Blue', 'Red'])\n",
    "#print(random_data)\n",
    "returns = random_data.pct_change()\n",
    "random_data.plot(title=\"Stock Prices\")\n",
    "returns.plot.bar()\n",
    "#print(returns.std())\n",
    "#print(returns.mean())\n",
    "\n",
    "print(returns + 1)\n",
    "#Kompounding is just this returns plus 1 format , need to subtract 1 , .prod  - 1 \n"
   ]
  },
  {
   "cell_type": "markdown",
   "id": "9998065f",
   "metadata": {},
   "source": [
    "\n",
    "## How to compere returns across periods of time \n",
    "### Annualizing returs\n",
    "The return you would get if the return you are looking at would continue. \n",
    "$$\n",
    "((1+0.01)^{12}-1)\n",
    "$$"
   ]
  },
  {
   "cell_type": "code",
   "execution_count": null,
   "id": "8254acf1",
   "metadata": {},
   "outputs": [
    {
     "data": {
      "text/plain": [
       "28.643404437615217"
      ]
     },
     "execution_count": 71,
     "metadata": {},
     "output_type": "execute_result"
    }
   ],
   "source": [
    "#Askje stiger 1% over 3mnd (ett kvartal) , Hva er annualisert vekst/profitt. \n",
    "#12/3 = 4\n",
    "((1+0.01)**(4)-1)\n",
    "\n",
    "#Monthly \n",
    "rm = 0.01\n",
    "((1+rm)**12-1)*100\n",
    "\n",
    "#Quarterly\n",
    "rq = 0.04\n",
    "((1+rq)**4-1)*100\n",
    "\n",
    "#Daily\n",
    "rd = 0.001\n",
    "((1+rd)**252-1)*100"
   ]
  },
  {
   "cell_type": "markdown",
   "id": "c02a97ce",
   "metadata": {},
   "source": [
    "### Volatility:\n",
    "This is the standard deviation of the portfolio's return and serves as the most basic measure of risk. It is calculated as \n",
    "\n",
    "$$\n",
    "√(wᵀΣw) \n",
    "$$ \n",
    "where Σ is the covariance matrix of the assets' returns.\n",
    "\n",
    "The square of the volatility, known as variance, is also commonly used as a risk proxy.\n",
    "\n",
    "* Population Variance \n",
    "$$\n",
    "\\sigma^2 = \\frac{\\sum_{i=1}^{N}(X_i - \\mu)^2}{N}\n",
    "$$\n",
    "\n",
    "* Sample variance \n",
    "$$\n",
    "s^2 = \\frac{\\sum_{i=1}^{n}(x_i - \\bar{x})^2}{n-1}\n",
    "$$\n",
    "\n",
    "\n",
    "* Population standard deviation\n",
    "$$\n",
    "\\sigma = \\sqrt{\\frac{\\sum_{i=1}^{N}(X_i - \\mu)^2}{N}}\n",
    "$$\n",
    "\n",
    "* Sample standard deviation \n",
    "$$\n",
    "s = \\sqrt{\\frac{\\sum_{i=1}^{n}(x_i - \\bar{x})^2}{n-1}}\n",
    "$$\n",
    "\n",
    "We compute the average of the square of the deviations from the mean. Måle varians. Deviation from the mean , squared to get positiv. \n",
    "\n",
    "\n",
    "### Annulzaing volatility: \n",
    "We cant compare the volatility from daily data with the volataolity ofrom the monthly data. \n",
    "Multiple the daily data by the days of the year (252)\n",
    "$$\n",
    "\\sigma_{ann} = \\sigma_p \\sqrt{p}\n",
    "$$\n",
    "\n",
    " Prosjektering , svingenger blir større se på som lys nærme og lenger vekk , spredning. \n",
    "\n"
   ]
  },
  {
   "cell_type": "code",
   "execution_count": 89,
   "id": "546ba6c3",
   "metadata": {},
   "outputs": [
    {
     "name": "stdout",
     "output_type": "stream",
     "text": [
      "        Blue       Red\n",
      "0        NaN       NaN\n",
      "1   0.818378 -0.475567\n",
      "2  -0.383615  0.608111\n",
      "3  -0.560987 -0.615898\n",
      "4   4.646361  1.589135\n",
      "5  -0.681625  0.538750\n",
      "6   0.776801  0.224891\n",
      "7   0.349692 -0.019978\n",
      "8  -0.840557 -0.621885\n",
      "9  -0.172878  0.393277\n",
      "10  0.276515 -0.163510\n",
      "11  7.074178 -0.767280\n",
      "12 -0.904209  2.333933\n",
      "13  3.629400  1.728089\n",
      "14  0.876303 -0.077572\n",
      "15 -0.682296  0.231542\n",
      "16  2.307436 -0.536043\n",
      "17 -0.539233  0.136874\n",
      "18  0.813052  0.549292\n",
      "19 -0.261949  0.089242\n",
      "        Blue       Red\n",
      "1   0.818378 -0.475567\n",
      "2  -0.383615  0.608111\n",
      "3  -0.560987 -0.615898\n",
      "4   4.646361  1.589135\n",
      "5  -0.681625  0.538750\n",
      "6   0.776801  0.224891\n",
      "7   0.349692 -0.019978\n",
      "8  -0.840557 -0.621885\n",
      "9  -0.172878  0.393277\n",
      "10  0.276515 -0.163510\n",
      "11  7.074178 -0.767280\n",
      "12 -0.904209  2.333933\n",
      "13  3.629400  1.728089\n",
      "14  0.876303 -0.077572\n",
      "15 -0.682296  0.231542\n",
      "16  2.307436 -0.536043\n",
      "17 -0.539233  0.136874\n",
      "18  0.813052  0.549292\n",
      "19 -0.261949  0.089242\n"
     ]
    }
   ],
   "source": [
    "random_data_2 = pd.DataFrame(np.random.rand(20, 2), columns=['Blue', 'Red'])\n",
    "returns = random_data_2.pct_change()\n",
    "print(returns)\n",
    "returns = returns.dropna()\n",
    "print(returns)"
   ]
  },
  {
   "cell_type": "code",
   "execution_count": 96,
   "id": "c5496857",
   "metadata": {},
   "outputs": [
    {
     "name": "stdout",
     "output_type": "stream",
     "text": [
      "        Blue       Red\n",
      "1  -0.052188 -0.746378\n",
      "2  -1.254182  0.337300\n",
      "3  -1.431554 -0.886709\n",
      "4   3.775795  1.318324\n",
      "5  -1.552192  0.267940\n",
      "6  -0.093765 -0.045919\n",
      "7  -0.520875 -0.290788\n",
      "8  -1.711124 -0.892696\n",
      "9  -1.043445  0.122466\n",
      "10 -0.594051 -0.434320\n",
      "11  6.203611 -1.038091\n",
      "12 -1.774776  2.063122\n",
      "13  2.758834  1.457278\n",
      "14  0.005737 -0.348383\n",
      "15 -1.552863 -0.039269\n",
      "16  1.436870 -0.806853\n",
      "17 -1.409800 -0.133936\n",
      "18 -0.057515  0.278482\n",
      "19 -1.132515 -0.181569\n",
      "         Blue       Red\n",
      "1    0.002724  0.557080\n",
      "2    1.572972  0.113771\n",
      "3    2.049347  0.786252\n",
      "4   14.256625  1.737979\n",
      "5    2.409300  0.071792\n",
      "6    0.008792  0.002109\n",
      "7    0.271311  0.084558\n",
      "8    2.927945  0.796906\n",
      "9    1.088777  0.014998\n",
      "10   0.352897  0.188634\n",
      "11  38.484791  1.077633\n",
      "12   3.149830  4.256473\n",
      "13   7.611162  2.123659\n",
      "14   0.000033  0.121371\n",
      "15   2.411383  0.001542\n",
      "16   2.064594  0.651013\n",
      "17   1.987536  0.017939\n",
      "18   0.003308  0.077552\n",
      "19   1.282591  0.032967\n",
      "Blue    4.312417\n",
      "Red     0.669170\n",
      "dtype: float64\n",
      "Blue    2.076636\n",
      "Red     0.818028\n",
      "dtype: float64\n"
     ]
    }
   ],
   "source": [
    "returns.std() # Sample \n",
    "derivations = returns - returns.mean()\n",
    "print(derivations)\n",
    "derivations_squared = derivations**2\n",
    "print(derivations_squared)\n",
    "variance = derivations_squared.mean()\n",
    "print(variance) \n",
    "volatility = np.sqrt(variance) #Population \n",
    "print(volatility)"
   ]
  },
  {
   "cell_type": "code",
   "execution_count": 103,
   "id": "c2da54c1",
   "metadata": {},
   "outputs": [
    {
     "name": "stdout",
     "output_type": "stream",
     "text": [
      "19\n",
      "Blue    2.076636\n",
      "Red     0.818028\n",
      "dtype: float64\n"
     ]
    }
   ],
   "source": [
    "num_of_observations = returns.shape[0]\n",
    "print(num_of_observations)\n",
    "volatility = variance**0.5\n",
    "print(volatility)\n"
   ]
  },
  {
   "cell_type": "markdown",
   "id": "bfa4aedc",
   "metadata": {},
   "source": [
    "### Sharpe Ratio (SR):\n",
    "Proposed by William Sharpe, this is a widely used risk-adjusted performance measure. It calculates the excess return of a portfolio over a risk-free rate, per unit of risk (volatility): \n",
    "$$\n",
    "SR = (wᵀμ - r_f) / √(wᵀΣw).\n",
    "$$\n",
    "\n",
    "Annulaized small cap higher volatillity \n",
    "Annulized large cap lower volataolit \n",
    " Return / Risk -> Dårlig måte å gjøre det på , look at excess return  over the risk free rate. \n",
    "\n",
    "$$\n",
    "\\text{Sharpe Ratio} = \\frac{R_p - R_f}{\\sigma_p}\n",
    "$$\n",
    "* R_p: This is the expected return of the portfolio or investment.\n",
    "\n",
    "* R_f: This is the risk-free rate of return. This is the theoretical return of an investment with zero risk, often represented by the yield on a government treasury bill.\n",
    "\n",
    "* sigma_p (sigma p): This is the standard deviation of the portfolio's return, which is the measure of its volatility or risk.\n",
    "\n",
    "Once you adjust for risk free rate , you get a better udnerstanding. "
   ]
  },
  {
   "cell_type": "code",
   "execution_count": null,
   "id": "30b802e7",
   "metadata": {},
   "outputs": [],
   "source": []
  },
  {
   "cell_type": "markdown",
   "id": "c4a42fe1",
   "metadata": {},
   "source": [
    "### Beyond Normality: Higher-Order Moments and Downside Risk\n",
    "\n",
    "Financial data often exhibits characteristics like asymmetry (skewness) and heavy tails (kurtosis), which means asset returns are not normally distributed. In such cases, relying solely on mean and variance can be insufficient for proper risk assessment.\n",
    "Higher-Order Moments\n",
    "To address non-normal returns, it is reasonable to incorporate higher-order moments into portfolio analysis:\n",
    "### Skewness: \n",
    "This is the third central moment and measures the asymmetry of the return distribution. Investors generally prefer higher (positive) skewness.\n",
    "### Kurtosis: \n",
    "This is the fourth central moment and measures the thickness of the distribution's tails. Investors prefer lower kurtosis, as high kurtosis indicates a greater potential for extreme outcomes (outliers).\n",
    "\n",
    "## Downside Risk Measures\n",
    "Since investors are typically more concerned with losses than with unexpected gains, downside risk measures offer a more relevant assessment of risk than variance, which penalises positive and negative deviations from the mean equally.\n",
    "Key downside and tail risk measures include:\n",
    "### Semi-Variance: \n",
    "First considered by Markowitz, this measure only accounts for returns that fall below the mean, thus capturing only the \"undesired\" risk.\n",
    "### Value-at-Risk (VaR):\n",
    " A popular tail risk measure, VaR quantifies the maximum potential loss over a specific period with a given confidence level (e.g., 95%). It essentially identifies the quantile of the loss distribution. However, VaR does not provide information about the potential magnitude of losses beyond this threshold and is not a coherent risk measure because it lacks subadditivity.\n",
    "### Conditional Value-at-Risk (CVaR):\n",
    " Also known as Expected Shortfall (ES), CVaR improves upon VaR by calculating the expected value of losses that exceed the VaR threshold. It considers the shape of the tail and is a coherent risk measure, satisfying properties like subadditivity which are crucial for diversification.\n",
    "\n",
    "These alternative measures can be incorporated into portfolio optimization formulations, providing sophisticated alternatives to the original mean-variance approach.\n"
   ]
  },
  {
   "cell_type": "code",
   "execution_count": null,
   "id": "dd113e2f",
   "metadata": {},
   "outputs": [],
   "source": []
  },
  {
   "cell_type": "markdown",
   "id": "2b7aba4b",
   "metadata": {},
   "source": []
  },
  {
   "cell_type": "code",
   "execution_count": null,
   "id": "506422cb",
   "metadata": {},
   "outputs": [],
   "source": []
  },
  {
   "cell_type": "code",
   "execution_count": null,
   "id": "57c647c6",
   "metadata": {},
   "outputs": [],
   "source": []
  },
  {
   "cell_type": "code",
   "execution_count": null,
   "id": "8a592433",
   "metadata": {},
   "outputs": [],
   "source": []
  },
  {
   "cell_type": "code",
   "execution_count": null,
   "id": "145f73dd",
   "metadata": {},
   "outputs": [],
   "source": []
  }
 ],
 "metadata": {
  "kernelspec": {
   "display_name": "Python 3",
   "language": "python",
   "name": "python3"
  },
  "language_info": {
   "codemirror_mode": {
    "name": "ipython",
    "version": 3
   },
   "file_extension": ".py",
   "mimetype": "text/x-python",
   "name": "python",
   "nbconvert_exporter": "python",
   "pygments_lexer": "ipython3",
   "version": "3.12.10"
  }
 },
 "nbformat": 4,
 "nbformat_minor": 5
}
